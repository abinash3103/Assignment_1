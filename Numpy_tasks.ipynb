{
  "cells": [
    {
      "cell_type": "markdown",
      "metadata": {
        "id": "view-in-github",
        "colab_type": "text"
      },
      "source": [
        "<a href=\"https://colab.research.google.com/github/abinash3103/Assignment_1/blob/main/Numpy_tasks.ipynb\" target=\"_parent\"><img src=\"https://colab.research.google.com/assets/colab-badge.svg\" alt=\"Open In Colab\"/></a>"
      ]
    },
    {
      "cell_type": "markdown",
      "metadata": {
        "id": "Fn95X7uuPAqd"
      },
      "source": [
        "# Numpy\n",
        "\n"
      ]
    },
    {
      "cell_type": "markdown",
      "metadata": {
        "id": "0_F6USeVPAqf"
      },
      "source": [
        "#### 1. Import the numpy package under the name `np` (★☆☆) \n",
        "(**hint**: import … as …)"
      ]
    },
    {
      "cell_type": "code",
      "execution_count": 1,
      "metadata": {
        "collapsed": true,
        "id": "H5R6v5CNPAqg"
      },
      "outputs": [],
      "source": [
        "import numpy as np"
      ]
    },
    {
      "cell_type": "markdown",
      "metadata": {
        "id": "3TZLAxW7PAqg"
      },
      "source": [
        "#### 2. Print the numpy version and the configuration (★☆☆) \n",
        "(**hint**: np.\\_\\_version\\_\\_, np.show\\_config)"
      ]
    },
    {
      "cell_type": "code",
      "execution_count": 2,
      "metadata": {
        "id": "dTt9kSorPAqh",
        "outputId": "8b6239c0-2623-4577-c6a3-966aa836e93e",
        "colab": {
          "base_uri": "https://localhost:8080/"
        }
      },
      "outputs": [
        {
          "output_type": "stream",
          "name": "stdout",
          "text": [
            "1.21.6\n",
            "<function show at 0x7f85e62ed290>\n"
          ]
        }
      ],
      "source": [
        "print(np.__version__)\n",
        "print(np.show_config)"
      ]
    },
    {
      "cell_type": "markdown",
      "metadata": {
        "id": "zqVYol23PAqh"
      },
      "source": [
        "#### 3. Create a null vector of size 10 (★☆☆) \n",
        "(**hint**: np.zeros)"
      ]
    },
    {
      "cell_type": "code",
      "execution_count": 3,
      "metadata": {
        "id": "9hcTZDG4PAqh",
        "outputId": "f5c5b2b9-5db6-4059-c469-ebe78f14319c",
        "colab": {
          "base_uri": "https://localhost:8080/"
        }
      },
      "outputs": [
        {
          "output_type": "stream",
          "name": "stdout",
          "text": [
            "[0. 0. 0. 0. 0. 0. 0. 0. 0. 0.]\n"
          ]
        }
      ],
      "source": [
        "x= np.zeros(10)\n",
        "print(x)"
      ]
    },
    {
      "cell_type": "markdown",
      "metadata": {
        "id": "ExwL-60vPAqh"
      },
      "source": [
        "#### 4.  How to find the memory size of any array (★☆☆) \n",
        "(**hint**: size, itemsize)"
      ]
    },
    {
      "cell_type": "code",
      "execution_count": 4,
      "metadata": {
        "id": "sTFJPoXqPAqi",
        "outputId": "1867d60c-f5d9-4095-b9b0-ddbca4e7d573",
        "colab": {
          "base_uri": "https://localhost:8080/"
        }
      },
      "outputs": [
        {
          "output_type": "execute_result",
          "data": {
            "text/plain": [
              "5"
            ]
          },
          "metadata": {},
          "execution_count": 4
        }
      ],
      "source": [
        "x= np.array([2,3,4,5,6])\n",
        "x.size"
      ]
    },
    {
      "cell_type": "markdown",
      "metadata": {
        "id": "YlcCQDz0PAqi"
      },
      "source": [
        "#### 5.  How to get the documentation of the numpy add function from the command line? (★☆☆) \n",
        "(**hint**: np.info)"
      ]
    },
    {
      "cell_type": "code",
      "execution_count": 5,
      "metadata": {
        "collapsed": true,
        "id": "eO3ShtGzPAqi",
        "outputId": "24c2645b-a8ee-4d92-9718-652b96afef85",
        "colab": {
          "base_uri": "https://localhost:8080/"
        }
      },
      "outputs": [
        {
          "output_type": "stream",
          "name": "stdout",
          "text": [
            "add(x1, x2, /, out=None, *, where=True, casting='same_kind', order='K', dtype=None, subok=True[, signature, extobj])\n",
            "\n",
            "Add arguments element-wise.\n",
            "\n",
            "Parameters\n",
            "----------\n",
            "x1, x2 : array_like\n",
            "    The arrays to be added.\n",
            "    If ``x1.shape != x2.shape``, they must be broadcastable to a common\n",
            "    shape (which becomes the shape of the output).\n",
            "out : ndarray, None, or tuple of ndarray and None, optional\n",
            "    A location into which the result is stored. If provided, it must have\n",
            "    a shape that the inputs broadcast to. If not provided or None,\n",
            "    a freshly-allocated array is returned. A tuple (possible only as a\n",
            "    keyword argument) must have length equal to the number of outputs.\n",
            "where : array_like, optional\n",
            "    This condition is broadcast over the input. At locations where the\n",
            "    condition is True, the `out` array will be set to the ufunc result.\n",
            "    Elsewhere, the `out` array will retain its original value.\n",
            "    Note that if an uninitialized `out` array is created via the default\n",
            "    ``out=None``, locations within it where the condition is False will\n",
            "    remain uninitialized.\n",
            "**kwargs\n",
            "    For other keyword-only arguments, see the\n",
            "    :ref:`ufunc docs <ufuncs.kwargs>`.\n",
            "\n",
            "Returns\n",
            "-------\n",
            "add : ndarray or scalar\n",
            "    The sum of `x1` and `x2`, element-wise.\n",
            "    This is a scalar if both `x1` and `x2` are scalars.\n",
            "\n",
            "Notes\n",
            "-----\n",
            "Equivalent to `x1` + `x2` in terms of array broadcasting.\n",
            "\n",
            "Examples\n",
            "--------\n",
            ">>> np.add(1.0, 4.0)\n",
            "5.0\n",
            ">>> x1 = np.arange(9.0).reshape((3, 3))\n",
            ">>> x2 = np.arange(3.0)\n",
            ">>> np.add(x1, x2)\n",
            "array([[  0.,   2.,   4.],\n",
            "       [  3.,   5.,   7.],\n",
            "       [  6.,   8.,  10.]])\n",
            "\n",
            "The ``+`` operator can be used as a shorthand for ``np.add`` on ndarrays.\n",
            "\n",
            ">>> x1 = np.arange(9.0).reshape((3, 3))\n",
            ">>> x2 = np.arange(3.0)\n",
            ">>> x1 + x2\n",
            "array([[ 0.,  2.,  4.],\n",
            "       [ 3.,  5.,  7.],\n",
            "       [ 6.,  8., 10.]])\n"
          ]
        }
      ],
      "source": [
        "np.info(np.add)"
      ]
    },
    {
      "cell_type": "markdown",
      "metadata": {
        "id": "f4yUKz0PPAqi"
      },
      "source": [
        "#### 6.  Create a null vector of size 10 but the fifth value which is 1 (★☆☆) \n",
        "(**hint**: array\\[4\\])"
      ]
    },
    {
      "cell_type": "code",
      "execution_count": 6,
      "metadata": {
        "id": "NpRj8_7dPAqi",
        "outputId": "7b0997f5-c991-4ae8-92ca-eecaba31fc5b",
        "colab": {
          "base_uri": "https://localhost:8080/"
        }
      },
      "outputs": [
        {
          "output_type": "execute_result",
          "data": {
            "text/plain": [
              "array([0., 0., 0., 0., 0., 1., 0., 0., 0., 0.])"
            ]
          },
          "metadata": {},
          "execution_count": 6
        }
      ],
      "source": [
        "a=np.zeros(10)\n",
        "a[5]=1\n",
        "a"
      ]
    },
    {
      "cell_type": "markdown",
      "metadata": {
        "id": "4hemPue1PAqj"
      },
      "source": [
        "#### 7.  Create a vector with values ranging from 10 to 49 (★☆☆) \n",
        "(**hint**: np.arange)"
      ]
    },
    {
      "cell_type": "code",
      "execution_count": 8,
      "metadata": {
        "id": "r_5k96ltPAqj",
        "outputId": "bf0ee978-f807-4727-95a3-a06390899e83",
        "colab": {
          "base_uri": "https://localhost:8080/"
        }
      },
      "outputs": [
        {
          "output_type": "execute_result",
          "data": {
            "text/plain": [
              "array([10, 11, 12, 13, 14, 15, 16, 17, 18, 19, 20, 21, 22, 23, 24, 25, 26,\n",
              "       27, 28, 29, 30, 31, 32, 33, 34, 35, 36, 37, 38, 39, 40, 41, 42, 43,\n",
              "       44, 45, 46, 47, 48, 49])"
            ]
          },
          "metadata": {},
          "execution_count": 8
        }
      ],
      "source": [
        "a= np.array(range(10,50))\n",
        "a"
      ]
    },
    {
      "cell_type": "markdown",
      "metadata": {
        "id": "IkTjuYMKPAqj"
      },
      "source": [
        "#### 8.  Reverse a vector (first element becomes last) (★☆☆) \n",
        "(**hint**: array\\[::-1\\])"
      ]
    },
    {
      "cell_type": "code",
      "execution_count": 9,
      "metadata": {
        "id": "Iuzpt89YPAqj",
        "outputId": "ed55d612-3d63-482f-f63c-426a97ddcfe8",
        "colab": {
          "base_uri": "https://localhost:8080/"
        }
      },
      "outputs": [
        {
          "output_type": "execute_result",
          "data": {
            "text/plain": [
              "array([49, 48, 47, 46, 45, 44, 43, 42, 41, 40, 39, 38, 37, 36, 35, 34, 33,\n",
              "       32, 31, 30, 29, 28, 27, 26, 25, 24, 23, 22, 21, 20, 19, 18, 17, 16,\n",
              "       15, 14, 13, 12, 11, 10])"
            ]
          },
          "metadata": {},
          "execution_count": 9
        }
      ],
      "source": [
        "a= np.array(range(10,50))\n",
        "a[::-1]"
      ]
    },
    {
      "cell_type": "markdown",
      "metadata": {
        "id": "8zv60E-nPAqj"
      },
      "source": [
        "#### 9.  Create a 3x3 matrix with values ranging from 0 to 8 (★☆☆) \n",
        "(**hint**: reshape)"
      ]
    },
    {
      "cell_type": "code",
      "execution_count": 11,
      "metadata": {
        "id": "gRAKFPogPAqj",
        "outputId": "c1ad60b9-52ef-4681-f624-5cbbc35d1b2f",
        "colab": {
          "base_uri": "https://localhost:8080/"
        }
      },
      "outputs": [
        {
          "output_type": "execute_result",
          "data": {
            "text/plain": [
              "array([[0, 1, 2],\n",
              "       [3, 4, 5],\n",
              "       [6, 7, 8]])"
            ]
          },
          "metadata": {},
          "execution_count": 11
        }
      ],
      "source": [
        "a= np.array(range(0,9))\n",
        "a.reshape(3,3)"
      ]
    },
    {
      "cell_type": "markdown",
      "metadata": {
        "id": "Y5R5WlliPAqj"
      },
      "source": [
        "#### 10. Find indices of non-zero elements from \\[1,2,0,0,4,0\\] (★☆☆) \n",
        "(**hint**: np.nonzero)"
      ]
    },
    {
      "cell_type": "code",
      "execution_count": 12,
      "metadata": {
        "id": "g2RgFYaSPAqj",
        "outputId": "b685aaf8-95f8-4aec-db3b-dfac107cb47a",
        "colab": {
          "base_uri": "https://localhost:8080/"
        }
      },
      "outputs": [
        {
          "output_type": "execute_result",
          "data": {
            "text/plain": [
              "(array([0, 1, 3]),)"
            ]
          },
          "metadata": {},
          "execution_count": 12
        }
      ],
      "source": [
        "a=[1,2,0,4,0,0]\n",
        "np.nonzero(a)"
      ]
    },
    {
      "cell_type": "markdown",
      "metadata": {
        "id": "cUGgHzVoPAqj"
      },
      "source": [
        "#### 11. Create a 3x3 identity matrix (★☆☆) \n",
        "(**hint**: np.eye)"
      ]
    },
    {
      "cell_type": "code",
      "execution_count": 13,
      "metadata": {
        "id": "du4PJ0VuPAqk",
        "outputId": "5b552dc8-5d88-4e7d-e7b9-15d602bb32d5",
        "colab": {
          "base_uri": "https://localhost:8080/"
        }
      },
      "outputs": [
        {
          "output_type": "execute_result",
          "data": {
            "text/plain": [
              "array([[1, 0, 0],\n",
              "       [0, 1, 0],\n",
              "       [0, 0, 1]])"
            ]
          },
          "metadata": {},
          "execution_count": 13
        }
      ],
      "source": [
        "np.eye(3,3,dtype=int)"
      ]
    },
    {
      "cell_type": "markdown",
      "metadata": {
        "id": "_9lJUF0gPAqk"
      },
      "source": [
        "#### 12. Create a 3x3x3 array with random values (★☆☆) \n",
        "(**hint**: np.random.random)"
      ]
    },
    {
      "cell_type": "code",
      "execution_count": 15,
      "metadata": {
        "collapsed": true,
        "id": "a_kjPNClPAqk",
        "outputId": "3a67cb9c-b5f9-4fdf-b7d5-a7f609d86ea9",
        "colab": {
          "base_uri": "https://localhost:8080/"
        }
      },
      "outputs": [
        {
          "output_type": "execute_result",
          "data": {
            "text/plain": [
              "array([[[0.15276676, 0.47640837, 0.31611679],\n",
              "        [0.15625176, 0.93836426, 0.52704281],\n",
              "        [0.02656146, 0.136074  , 0.49995007]],\n",
              "\n",
              "       [[0.88125879, 0.3359524 , 0.48906778],\n",
              "        [0.51603986, 0.58915819, 0.80615613],\n",
              "        [0.1869228 , 0.07595596, 0.54842915]],\n",
              "\n",
              "       [[0.53557589, 0.49818941, 0.35611145],\n",
              "        [0.29169304, 0.59433769, 0.07257751],\n",
              "        [0.74365812, 0.8795834 , 0.86707248]]])"
            ]
          },
          "metadata": {},
          "execution_count": 15
        }
      ],
      "source": [
        "a=np.random.random((3,3,3))\n",
        "a"
      ]
    },
    {
      "cell_type": "markdown",
      "metadata": {
        "id": "kxBYg0tWPAqk"
      },
      "source": [
        "#### 13. Create a 10x10 array with random values and find the minimum and maximum values (★☆☆) \n",
        "(**hint**: min, max)"
      ]
    },
    {
      "cell_type": "code",
      "execution_count": 16,
      "metadata": {
        "id": "Im7hF72pPAqk",
        "outputId": "ce9d1ef9-8491-4fb9-a409-3d95b34c2f9c",
        "colab": {
          "base_uri": "https://localhost:8080/"
        }
      },
      "outputs": [
        {
          "output_type": "stream",
          "name": "stdout",
          "text": [
            "0.020095283423624655\n",
            "0.98748375313697\n",
            "[[0.6737679  0.16836163 0.51374593 0.43368437 0.72191633 0.63966433\n",
            "  0.45932755 0.57762254 0.20065503 0.83480506]\n",
            " [0.37325151 0.31665735 0.05513296 0.77299161 0.75034594 0.85859149\n",
            "  0.42797459 0.22645071 0.7455162  0.61324713]\n",
            " [0.83908188 0.69487184 0.20723733 0.35164651 0.64648535 0.83286694\n",
            "  0.13509481 0.02535911 0.54331437 0.03973151]\n",
            " [0.78180553 0.06422169 0.46225929 0.57783194 0.08123523 0.86607802\n",
            "  0.28244273 0.53036488 0.51652819 0.17093408]\n",
            " [0.85984717 0.26995406 0.37308368 0.5936429  0.03248726 0.31674679\n",
            "  0.21793272 0.26992026 0.28632285 0.33119055]\n",
            " [0.72401444 0.42533661 0.96187151 0.82412461 0.92037069 0.90101978\n",
            "  0.53327408 0.93783013 0.89367645 0.51649225]\n",
            " [0.61254019 0.08916843 0.08718086 0.87224719 0.19983673 0.44284933\n",
            "  0.88186647 0.90853938 0.45327457 0.71456508]\n",
            " [0.3645143  0.68053671 0.16691894 0.02009528 0.61593802 0.10370482\n",
            "  0.38251032 0.05620039 0.98748375 0.91425019]\n",
            " [0.4078588  0.21139128 0.51920197 0.27428629 0.55093956 0.27496201\n",
            "  0.47359816 0.78204655 0.87347966 0.86034039]\n",
            " [0.58642363 0.26445793 0.56270534 0.82155877 0.5660472  0.16733845\n",
            "  0.0911386  0.18686865 0.89626994 0.57139122]]\n"
          ]
        }
      ],
      "source": [
        "a= np.random.random((10,10))\n",
        "print(np.min(a))\n",
        "print(np.max(a))\n",
        "print(a)"
      ]
    },
    {
      "cell_type": "markdown",
      "metadata": {
        "id": "fydz2IVbPAqk"
      },
      "source": [
        "#### 14. Create a random vector of size 30 and find the mean value (★☆☆) \n",
        "(**hint**: mean)"
      ]
    },
    {
      "cell_type": "code",
      "execution_count": 17,
      "metadata": {
        "id": "iEl0omzQPAqk",
        "outputId": "b46f6629-5712-46ca-e31a-ee0c8fbfa41a",
        "colab": {
          "base_uri": "https://localhost:8080/"
        }
      },
      "outputs": [
        {
          "output_type": "stream",
          "name": "stdout",
          "text": [
            "0.4327450670634186\n",
            "[0.68258446 0.1592475  0.42483401 0.33800971 0.21243489 0.69102419\n",
            " 0.07882246 0.51093729 0.27719467 0.21185701 0.54181808 0.14293544\n",
            " 0.68488755 0.37850953 0.46142296 0.94014929 0.86000673 0.59906359\n",
            " 0.65142398 0.43181647 0.53567073 0.21376374 0.20757412 0.04501429\n",
            " 0.48603762 0.58177979 0.21636247 0.06951133 0.62968543 0.71797268]\n"
          ]
        }
      ],
      "source": [
        "a=np.random.rand(30)\n",
        "print(np.mean(a))\n",
        "print(a)"
      ]
    },
    {
      "cell_type": "markdown",
      "metadata": {
        "id": "ATRv9CiwPAqk"
      },
      "source": [
        "#### 15. Create a 2d array with 1 on the border and 0 inside (★☆☆) \n",
        "(**hint**: array\\[1:-1, 1:-1\\])"
      ]
    },
    {
      "cell_type": "code",
      "execution_count": 20,
      "metadata": {
        "id": "oAUwKVWwPAqk",
        "outputId": "af95c242-2ed3-42e9-a69c-378ff53113ec",
        "colab": {
          "base_uri": "https://localhost:8080/"
        }
      },
      "outputs": [
        {
          "output_type": "execute_result",
          "data": {
            "text/plain": [
              "array([[1., 1., 1., 1., 1.],\n",
              "       [1., 0., 0., 0., 1.],\n",
              "       [1., 0., 0., 0., 1.],\n",
              "       [1., 0., 0., 0., 1.],\n",
              "       [1., 1., 1., 1., 1.]])"
            ]
          },
          "metadata": {},
          "execution_count": 20
        }
      ],
      "source": [
        "import numpy as np\n",
        "x=np.ones((5,5))\n",
        "x[1:-1,1:-1]=0\n",
        "x"
      ]
    },
    {
      "cell_type": "markdown",
      "metadata": {
        "id": "L2Lg8JPVPAqk"
      },
      "source": [
        "#### 16. How to add a border (filled with 0's) around an existing array? (★☆☆) \n",
        "(**hint**: np.pad)"
      ]
    },
    {
      "cell_type": "code",
      "execution_count": 25,
      "metadata": {
        "id": "KP222X79PAql",
        "outputId": "f74cceb3-ee84-4340-9522-c4211347ae4c",
        "colab": {
          "base_uri": "https://localhost:8080/"
        }
      },
      "outputs": [
        {
          "output_type": "execute_result",
          "data": {
            "text/plain": [
              "array([[0., 0., 0., 0., 0., 0., 0.],\n",
              "       [0., 1., 1., 1., 1., 1., 0.],\n",
              "       [0., 1., 1., 1., 1., 1., 0.],\n",
              "       [0., 1., 1., 1., 1., 1., 0.],\n",
              "       [0., 1., 1., 1., 1., 1., 0.],\n",
              "       [0., 1., 1., 1., 1., 1., 0.],\n",
              "       [0., 0., 0., 0., 0., 0., 0.]])"
            ]
          },
          "metadata": {},
          "execution_count": 25
        }
      ],
      "source": [
        "import numpy as np\n",
        "x=np.ones((5,5))\n",
        "y=np.pad(x,pad_width=1,mode=\"constant\",constant_values=0)\n",
        "y"
      ]
    },
    {
      "cell_type": "markdown",
      "metadata": {
        "id": "_0vnDpU1PAql"
      },
      "source": [
        "#### 17. What is the result of the following expression? (★☆☆) \n",
        "(**hint**: NaN = not a number, inf = infinity)"
      ]
    },
    {
      "cell_type": "markdown",
      "metadata": {
        "id": "D6TsgJiePAql"
      },
      "source": [
        "\n",
        "```python\n",
        "0 * np.nan\n",
        "np.nan == np.nan\n",
        "np.inf > np.nan\n",
        "np.nan - np.nan\n",
        "0.3 == 3 * 0.1\n",
        "```"
      ]
    },
    {
      "cell_type": "code",
      "execution_count": 44,
      "metadata": {
        "id": "zlPMuOBnPAql",
        "outputId": "9a6ad357-7bb6-4452-f622-66dd87ab02c5",
        "colab": {
          "base_uri": "https://localhost:8080/"
        }
      },
      "outputs": [
        {
          "output_type": "execute_result",
          "data": {
            "text/plain": [
              "False"
            ]
          },
          "metadata": {},
          "execution_count": 44
        }
      ],
      "source": [
        "0 * np.nan\n",
        "np.nan == np.nan\n",
        "np.inf > np.nan\n",
        "np.nan - np.nan\n",
        "0.3 == 3 * 0.1"
      ]
    },
    {
      "cell_type": "markdown",
      "metadata": {
        "id": "sSY24l9FPAql"
      },
      "source": [
        "#### 18. Create a 5x5 matrix with values 1,2,3,4 just below the diagonal (★☆☆) \n",
        "(**hint**: np.diag)"
      ]
    },
    {
      "cell_type": "code",
      "execution_count": 29,
      "metadata": {
        "id": "Yf74daZFPAql",
        "outputId": "d1bbce0f-73ff-4136-f4a5-17d56ee410ca",
        "colab": {
          "base_uri": "https://localhost:8080/"
        }
      },
      "outputs": [
        {
          "output_type": "execute_result",
          "data": {
            "text/plain": [
              "array([[1., 2., 3., 4., 5.],\n",
              "       [1., 2., 3., 4., 5.],\n",
              "       [1., 2., 3., 4., 5.],\n",
              "       [1., 2., 3., 4., 5.],\n",
              "       [1., 2., 3., 4., 5.]])"
            ]
          },
          "metadata": {},
          "execution_count": 29
        }
      ],
      "source": [
        "import numpy as np\n",
        "x=np.ones((5,5))\n",
        "x+=np.arange(5)\n",
        "x"
      ]
    },
    {
      "cell_type": "markdown",
      "metadata": {
        "id": "wCv0R_C4PAql"
      },
      "source": [
        "#### 19. Create a 8x8 matrix and fill it with a checkerboard pattern (★☆☆) \n",
        "(**hint**: array\\[::2\\])"
      ]
    },
    {
      "cell_type": "code",
      "execution_count": 30,
      "metadata": {
        "id": "SdUcEwdPPAql",
        "outputId": "681b983b-d434-4662-c444-09ff7b299db2",
        "colab": {
          "base_uri": "https://localhost:8080/"
        }
      },
      "outputs": [
        {
          "output_type": "execute_result",
          "data": {
            "text/plain": [
              "array([[0, 1, 0, 1, 0, 1, 0, 1],\n",
              "       [1, 0, 1, 0, 1, 0, 1, 0],\n",
              "       [0, 1, 0, 1, 0, 1, 0, 1],\n",
              "       [1, 0, 1, 0, 1, 0, 1, 0],\n",
              "       [0, 1, 0, 1, 0, 1, 0, 1],\n",
              "       [1, 0, 1, 0, 1, 0, 1, 0],\n",
              "       [0, 1, 0, 1, 0, 1, 0, 1],\n",
              "       [1, 0, 1, 0, 1, 0, 1, 0]])"
            ]
          },
          "metadata": {},
          "execution_count": 30
        }
      ],
      "source": [
        "import numpy as np\n",
        "x=np.zeros((3,3))\n",
        "x=np.zeros((8,8),dtype=int)\n",
        "x[1::2,::2]=1\n",
        "x[::2,1::2]=1\n",
        "x"
      ]
    },
    {
      "cell_type": "markdown",
      "metadata": {
        "id": "chgr8ENxPAql"
      },
      "source": [
        "#### 20. Consider a (6,7,8) shape array, what is the index (x,y,z) of the 100th element? \n",
        "(**hint**: np.unravel_index)"
      ]
    },
    {
      "cell_type": "code",
      "execution_count": 31,
      "metadata": {
        "id": "7pZteuJYPAqm",
        "outputId": "b44183e2-8521-4461-be23-8c27eadc4233",
        "colab": {
          "base_uri": "https://localhost:8080/"
        }
      },
      "outputs": [
        {
          "output_type": "execute_result",
          "data": {
            "text/plain": [
              "(1, 5, 4)"
            ]
          },
          "metadata": {},
          "execution_count": 31
        }
      ],
      "source": [
        "np.unravel_index(100,(6,7,8))"
      ]
    },
    {
      "cell_type": "markdown",
      "metadata": {
        "id": "HhGvGlvVPAqm"
      },
      "source": [
        "#### 21. Create a checkerboard 8x8 matrix using the tile function (★☆☆) \n",
        "(**hint**: np.tile)"
      ]
    },
    {
      "cell_type": "code",
      "execution_count": 46,
      "metadata": {
        "id": "iZ-uqoBbPAqm",
        "outputId": "188f1c08-3242-4e01-c6b9-a6d405d54054",
        "colab": {
          "base_uri": "https://localhost:8080/"
        }
      },
      "outputs": [
        {
          "output_type": "execute_result",
          "data": {
            "text/plain": [
              "array([[0, 1, 0, 1, 0, 1, 0, 1],\n",
              "       [1, 0, 1, 0, 1, 0, 1, 0],\n",
              "       [0, 1, 0, 1, 0, 1, 0, 1],\n",
              "       [1, 0, 1, 0, 1, 0, 1, 0],\n",
              "       [0, 1, 0, 1, 0, 1, 0, 1],\n",
              "       [1, 0, 1, 0, 1, 0, 1, 0],\n",
              "       [0, 1, 0, 1, 0, 1, 0, 1],\n",
              "       [1, 0, 1, 0, 1, 0, 1, 0]])"
            ]
          },
          "metadata": {},
          "execution_count": 46
        }
      ],
      "source": [
        "a=np.array([[0,1],[1,0]])\n",
        "y=np.tile(a,(4,4))\n",
        "y"
      ]
    },
    {
      "cell_type": "markdown",
      "metadata": {
        "id": "rA2eiZJBPAqm"
      },
      "source": [
        "#### 22. Normalize a 5x5 random matrix (★☆☆) \n",
        "(**hint**: (x - min) / (max - min))"
      ]
    },
    {
      "cell_type": "code",
      "execution_count": 33,
      "metadata": {
        "id": "f3XGqIhPPAqm",
        "outputId": "47bc983d-5331-446c-d1cc-395c6bd14db1",
        "colab": {
          "base_uri": "https://localhost:8080/"
        }
      },
      "outputs": [
        {
          "output_type": "execute_result",
          "data": {
            "text/plain": [
              "array([[0.80802076, 0.65372962, 0.94383133, 0.73763123, 0.4813731 ],\n",
              "       [0.91164392, 0.17511757, 0.3073418 , 0.68215351, 0.16502353],\n",
              "       [0.34525057, 0.78421315, 0.99144278, 0.50185715, 0.07070279],\n",
              "       [0.28781969, 0.29407643, 0.18570763, 0.38870605, 1.        ],\n",
              "       [0.26694565, 0.78593143, 0.        , 0.76282668, 0.90039523]])"
            ]
          },
          "metadata": {},
          "execution_count": 33
        }
      ],
      "source": [
        "x=np.random.random((5,5))\n",
        "xmax,xmin=x.max(),x.min()\n",
        "x=(x-xmin)/(xmax-xmin)\n",
        "x"
      ]
    },
    {
      "cell_type": "markdown",
      "metadata": {
        "id": "ciwf9XLQPAqm"
      },
      "source": [
        "#### 23. Create a custom dtype that describes a color as four unsigned bytes (RGBA) (★☆☆) \n",
        "(**hint**: np.dtype)"
      ]
    },
    {
      "cell_type": "code",
      "execution_count": 34,
      "metadata": {
        "collapsed": true,
        "id": "La4lMAMCPAqm",
        "outputId": "a72d562b-eea2-44c0-ecf4-5279f70d442a",
        "colab": {
          "base_uri": "https://localhost:8080/"
        }
      },
      "outputs": [
        {
          "output_type": "stream",
          "name": "stdout",
          "text": [
            "1\n"
          ]
        },
        {
          "output_type": "execute_result",
          "data": {
            "text/plain": [
              "numpy.ndarray"
            ]
          },
          "metadata": {},
          "execution_count": 34
        }
      ],
      "source": [
        "RGBA = np.dtype([('red',np.uint8),('green',np.uint8),('blue',np.uint8),('alpha',np.uint8)])\n",
        "color = np.array((1,2,4,3),dtype = RGBA)\n",
        "print(color['red'])\n",
        "type(color)"
      ]
    },
    {
      "cell_type": "markdown",
      "metadata": {
        "id": "grhHJpSrPAqm"
      },
      "source": [
        "#### 24. Multiply a 5x3 matrix by a 3x2 matrix (real matrix product) (★☆☆) \n",
        "(**hint**: np.dot | @)"
      ]
    },
    {
      "cell_type": "code",
      "execution_count": 35,
      "metadata": {
        "id": "nR2MNJHlPAqm",
        "outputId": "da5bf7ea-785c-4f80-dccc-dcf2598c670d",
        "colab": {
          "base_uri": "https://localhost:8080/"
        }
      },
      "outputs": [
        {
          "output_type": "execute_result",
          "data": {
            "text/plain": [
              "array([[3., 3.],\n",
              "       [3., 3.],\n",
              "       [3., 3.],\n",
              "       [3., 3.],\n",
              "       [3., 3.]])"
            ]
          },
          "metadata": {},
          "execution_count": 35
        }
      ],
      "source": [
        "x=np.dot(np.ones((5,3)),np.ones((3,2)))\n",
        "x"
      ]
    },
    {
      "cell_type": "markdown",
      "metadata": {
        "id": "NRBIPifbPAqm"
      },
      "source": [
        "#### 25. Given a 1D array, negate all elements which are between 3 and 8, in place. (★☆☆) \n",
        "(**hint**: >, <=)"
      ]
    },
    {
      "cell_type": "code",
      "execution_count": 38,
      "metadata": {
        "id": "0D8AuQKWPAqn",
        "outputId": "9aae78c4-3149-4859-f25f-05a1b46cf0b7",
        "colab": {
          "base_uri": "https://localhost:8080/"
        }
      },
      "outputs": [
        {
          "output_type": "stream",
          "name": "stdout",
          "text": [
            "[False False False  True  True  True  True  True  True  True  True  True\n",
            "  True  True  True  True]\n",
            "[ 0  1  2 -3 -4 -5 -6 -7 -8  9 10 11 12 13 14 15]\n"
          ]
        }
      ],
      "source": [
        "arr= np.arange(16)\n",
        "print(arr>=3)\n",
        "\n",
        "arr[(arr>=3)&(arr<=8)]*=(-1)\n",
        "print(arr)"
      ]
    },
    {
      "cell_type": "markdown",
      "metadata": {
        "id": "pZTZ4j1rPAqn"
      },
      "source": [
        "#### 26. What is the output of the following script? (★☆☆) \n",
        "(**hint**: np.sum)"
      ]
    },
    {
      "cell_type": "markdown",
      "metadata": {
        "id": "vx1npUW9PAqn"
      },
      "source": [
        "```python\n",
        "# Author: Jake VanderPlas\n",
        "\n",
        "print(sum(range(5),-1))\n",
        "from numpy import *\n",
        "print(sum(range(5),-1))\n",
        "```"
      ]
    },
    {
      "cell_type": "code",
      "execution_count": 47,
      "metadata": {
        "id": "UkGnl-mMPAqn",
        "outputId": "5dee6441-259c-4de8-ba8c-6bf6eae53fab",
        "colab": {
          "base_uri": "https://localhost:8080/"
        }
      },
      "outputs": [
        {
          "output_type": "execute_result",
          "data": {
            "text/plain": [
              "10"
            ]
          },
          "metadata": {},
          "execution_count": 47
        }
      ],
      "source": [
        "9\n",
        "10"
      ]
    },
    {
      "cell_type": "markdown",
      "metadata": {
        "id": "fjNB6D7KPAqn"
      },
      "source": [
        "#### 27. Consider an integer vector Z, which of these expressions are legal? (★☆☆)"
      ]
    },
    {
      "cell_type": "markdown",
      "metadata": {
        "id": "ziRS2xGtPAqn"
      },
      "source": [
        "```python\n",
        "Z**Z\n",
        "2 << Z >> 2\n",
        "Z <- Z\n",
        "1j*Z\n",
        "Z/1/1\n",
        "Z<Z>Z\n",
        "```"
      ]
    },
    {
      "cell_type": "code",
      "execution_count": 51,
      "metadata": {
        "id": "c19Un7m6PAqn",
        "outputId": "f7a3adab-646e-44e2-e39d-b32588f87c3a",
        "colab": {
          "base_uri": "https://localhost:8080/",
          "height": 262
        }
      },
      "outputs": [
        {
          "output_type": "stream",
          "name": "stdout",
          "text": [
            "['0b10', '0b10', '0b10', '0b10', '0b10', '0b10', '0b10', '0b10', '0b10', '0b10']\n",
            "['0b10', '0b100', '0b1000', '0b100000', '0b1000000000', '0b100000000000000000', '0b1000000000000000000000000000000000', '0b0', '0b0', '0b0']\n",
            "['0b0', '0b1', '0b10', '0b100', '0b1000', '0b10000', '0b100000', '0b1000000', '0b10000000', '0b100000000']\n"
          ]
        },
        {
          "output_type": "error",
          "ename": "ValueError",
          "evalue": "ignored",
          "traceback": [
            "\u001b[0;31m---------------------------------------------------------------------------\u001b[0m",
            "\u001b[0;31mValueError\u001b[0m                                Traceback (most recent call last)",
            "\u001b[0;32m<ipython-input-51-4adc97b88cbe>\u001b[0m in \u001b[0;36m<module>\u001b[0;34m\u001b[0m\n\u001b[1;32m      6\u001b[0m \u001b[0mprint\u001b[0m\u001b[0;34m(\u001b[0m\u001b[0;34m[\u001b[0m\u001b[0mbin\u001b[0m\u001b[0;34m(\u001b[0m\u001b[0mz\u001b[0m\u001b[0;34m)\u001b[0m \u001b[0;32mfor\u001b[0m \u001b[0mz\u001b[0m \u001b[0;32min\u001b[0m \u001b[0;36m2\u001b[0m \u001b[0;34m<<\u001b[0m \u001b[0mZ_2\u001b[0m\u001b[0;34m]\u001b[0m\u001b[0;34m)\u001b[0m\u001b[0;34m\u001b[0m\u001b[0;34m\u001b[0m\u001b[0m\n\u001b[1;32m      7\u001b[0m \u001b[0mprint\u001b[0m\u001b[0;34m(\u001b[0m\u001b[0;34m[\u001b[0m\u001b[0mbin\u001b[0m\u001b[0;34m(\u001b[0m\u001b[0mz\u001b[0m\u001b[0;34m)\u001b[0m \u001b[0;32mfor\u001b[0m \u001b[0mz\u001b[0m \u001b[0;32min\u001b[0m \u001b[0mZ_2\u001b[0m\u001b[0;34m]\u001b[0m\u001b[0;34m)\u001b[0m\u001b[0;34m\u001b[0m\u001b[0;34m\u001b[0m\u001b[0m\n\u001b[0;32m----> 8\u001b[0;31m \u001b[0mZ\u001b[0m\u001b[0;34m<\u001b[0m\u001b[0mZ\u001b[0m\u001b[0;34m>\u001b[0m\u001b[0mZ\u001b[0m\u001b[0;34m\u001b[0m\u001b[0;34m\u001b[0m\u001b[0m\n\u001b[0m",
            "\u001b[0;31mValueError\u001b[0m: The truth value of an array with more than one element is ambiguous. Use a.any() or a.all()"
          ]
        }
      ],
      "source": [
        "Z=arange(10)\n",
        "Z**Z\n",
        "Z_2=2<<Z>>2\n",
        "Z_2\n",
        "print([bin(2) for z in Z_2])\n",
        "print([bin(z) for z in 2 << Z_2])\n",
        "print([bin(z) for z in Z_2])\n",
        "Z<Z>Z"
      ]
    },
    {
      "cell_type": "markdown",
      "metadata": {
        "id": "bfNN1z2XPAqn"
      },
      "source": [
        "#### 28. What are the result of the following expressions?"
      ]
    },
    {
      "cell_type": "markdown",
      "metadata": {
        "id": "iK2Z6XGqPAqn"
      },
      "source": [
        "```python\n",
        "np.array(0) / np.array(0)\n",
        "np.array(0) // np.array(0)\n",
        "np.array([np.nan]).astype(int).astype(float)\n",
        "```"
      ]
    },
    {
      "cell_type": "code",
      "execution_count": 52,
      "metadata": {
        "id": "qd2cz8Q3PAqo",
        "outputId": "ceca7840-a0e7-4fdc-947a-91e61b03ec4f",
        "colab": {
          "base_uri": "https://localhost:8080/"
        }
      },
      "outputs": [
        {
          "output_type": "execute_result",
          "data": {
            "text/plain": [
              "array([-9.22337204e+18])"
            ]
          },
          "metadata": {},
          "execution_count": 52
        }
      ],
      "source": [
        "np.array ([np.nan]).astype(int).astype(float)"
      ]
    },
    {
      "cell_type": "markdown",
      "metadata": {
        "id": "ukf-I_uiPAqo"
      },
      "source": [
        "#### 29. How to round away from zero a float array ? (★☆☆) \n",
        "(**hint**: np.uniform, np.copysign, np.ceil, np.abs)"
      ]
    },
    {
      "cell_type": "code",
      "execution_count": 53,
      "metadata": {
        "id": "k6v0JzzrPAqo",
        "outputId": "365c2ca7-a156-4a0f-eb2c-e958eaf03965",
        "colab": {
          "base_uri": "https://localhost:8080/"
        }
      },
      "outputs": [
        {
          "output_type": "stream",
          "name": "stdout",
          "text": [
            "[[0.53070485 0.93410867 0.67125146 0.19656065 0.56814379]\n",
            " [0.8774954  0.08753948 0.40411149 0.26541639 0.67873729]\n",
            " [0.95420338 0.41347246 0.35839521 0.70985741 0.02063608]\n",
            " [0.07365925 0.13471758 0.19977654 0.92041685 0.98359125]\n",
            " [0.54151355 0.35864621 0.50650897 0.51487386 0.03878375]]\n",
            "[[0.53 0.93 0.67 0.2  0.57]\n",
            " [0.88 0.09 0.4  0.27 0.68]\n",
            " [0.95 0.41 0.36 0.71 0.02]\n",
            " [0.07 0.13 0.2  0.92 0.98]\n",
            " [0.54 0.36 0.51 0.51 0.04]]\n"
          ]
        }
      ],
      "source": [
        "arr= np.random.random((5,5))\n",
        "print(arr)\n",
        "arr=np.round(arr,2)\n",
        "print(arr)"
      ]
    },
    {
      "cell_type": "markdown",
      "metadata": {
        "id": "P_jBUdqwPAqo"
      },
      "source": [
        "#### 30. How to find common values between two arrays? (★☆☆) \n",
        "(**hint**: np.intersect1d)"
      ]
    },
    {
      "cell_type": "code",
      "execution_count": 57,
      "metadata": {
        "id": "y2ISJQyvPAqo",
        "outputId": "29c188fc-4778-4a20-edab-ff5d0cc69ede",
        "colab": {
          "base_uri": "https://localhost:8080/"
        }
      },
      "outputs": [
        {
          "output_type": "stream",
          "name": "stdout",
          "text": [
            "[1 2 3]\n"
          ]
        }
      ],
      "source": [
        "x= np.array([1,2,3,4])\n",
        "y= np.array([2,3,1,5])\n",
        "print(np.intersect1d(x,y))"
      ]
    },
    {
      "cell_type": "markdown",
      "metadata": {
        "id": "2OYeNufoPAqo"
      },
      "source": [
        "#### 31. How to ignore all numpy warnings (not recommended)? (★☆☆) \n",
        "(**hint**: np.seterr, np.errstate)"
      ]
    },
    {
      "cell_type": "code",
      "execution_count": 58,
      "metadata": {
        "id": "fFpfzG0bPAqo",
        "outputId": "98e95cf1-2c45-4919-dffe-9d0c36376df6",
        "colab": {
          "base_uri": "https://localhost:8080/"
        }
      },
      "outputs": [
        {
          "output_type": "execute_result",
          "data": {
            "text/plain": [
              "{'divide': 'warn', 'over': 'warn', 'under': 'ignore', 'invalid': 'warn'}"
            ]
          },
          "metadata": {},
          "execution_count": 58
        }
      ],
      "source": [
        "import numpy as np\n",
        "data = np.random.random(1000).reshape(10,10,10)*np.nan\n",
        "np.seterr(all=\"ignore\")"
      ]
    },
    {
      "cell_type": "markdown",
      "metadata": {
        "id": "Bb2aJf5XPAqo"
      },
      "source": [
        "#### 32. Is the following expressions true? (★☆☆) \n",
        "(**hint**: imaginary number)"
      ]
    },
    {
      "cell_type": "markdown",
      "metadata": {
        "id": "d7n4HO76PAqp"
      },
      "source": [
        "```python\n",
        "np.sqrt(-1) == np.emath.sqrt(-1)\n",
        "```"
      ]
    },
    {
      "cell_type": "code",
      "execution_count": 59,
      "metadata": {
        "id": "qzxCMrSoPAqp",
        "outputId": "73528127-af3e-4bd6-df71-cf9b08073752",
        "colab": {
          "base_uri": "https://localhost:8080/"
        }
      },
      "outputs": [
        {
          "output_type": "execute_result",
          "data": {
            "text/plain": [
              "False"
            ]
          },
          "metadata": {},
          "execution_count": 59
        }
      ],
      "source": [
        "np.sqrt(-1)==np.emath.sqrt(-1)"
      ]
    },
    {
      "cell_type": "markdown",
      "metadata": {
        "id": "P8d2X4VxPAqp"
      },
      "source": [
        "#### 33. How to get the dates of yesterday, today and tomorrow? (★☆☆) \n",
        "(**hint**: np.datetime64, np.timedelta64)"
      ]
    },
    {
      "cell_type": "code",
      "execution_count": 60,
      "metadata": {
        "collapsed": true,
        "id": "dIU2CW27PAqp"
      },
      "outputs": [],
      "source": [
        "yesterday = np.datetime64('today', 'D') - np.timedelta64(1, 'D')\n",
        "today = np.datetime64('today','D')\n",
        "tomorrow = np.datetime64('today', 'D') + np.timedelta64(1,'D')"
      ]
    },
    {
      "cell_type": "markdown",
      "metadata": {
        "id": "TmbK7EYePAqp"
      },
      "source": [
        "#### 34. How to get all the dates corresponding to the month of July 2016? (★★☆) \n",
        "(**hint**: np.arange(dtype=datetime64\\['D'\\]))"
      ]
    },
    {
      "cell_type": "code",
      "execution_count": 63,
      "metadata": {
        "id": "R1csH0fnPAqp"
      },
      "outputs": [],
      "source": [
        "yesterday = np.datetime64('today', 'D') - np.timedelta64(1, 'D')\n",
        "today     = np.datetime64('today', 'D')\n",
        "tomorrow  = np.datetime64('today', 'D') + np.timedelta64(1, 'D')"
      ]
    },
    {
      "cell_type": "markdown",
      "metadata": {
        "id": "h0CZcyXnPAqq"
      },
      "source": [
        "#### 35. How to compute ((A+B)\\*(-A/2)) in place (without copy)? (★★☆) \n",
        "(**hint**: np.add(out=), np.negative(out=), np.multiply(out=), np.divide(out=))"
      ]
    },
    {
      "cell_type": "code",
      "execution_count": 64,
      "metadata": {
        "id": "DRP7YpEhPAqq",
        "outputId": "37b4b48e-0bb6-4736-83e1-ef7e41042fc4",
        "colab": {
          "base_uri": "https://localhost:8080/"
        }
      },
      "outputs": [
        {
          "output_type": "execute_result",
          "data": {
            "text/plain": [
              "-4.5"
            ]
          },
          "metadata": {},
          "execution_count": 64
        }
      ],
      "source": [
        "A= np.ones(3)*1\n",
        "B= np.ones(3)*2\n",
        "C= np.ones(3)*3\n",
        "np.add(A,B, out=B)\n",
        "np.divide(A,2, out=A)\n",
        "np.negative(A, out=A)\n",
        "np.dot(A,B)"
      ]
    },
    {
      "cell_type": "markdown",
      "metadata": {
        "id": "l4C_4NiNPAqq"
      },
      "source": [
        "#### 36. Extract the integer part of a random array using 5 different methods (★★☆) \n",
        "(**hint**: %, np.floor, np.ceil, astype, np.trunc)"
      ]
    },
    {
      "cell_type": "code",
      "execution_count": 65,
      "metadata": {
        "id": "G6iGKOU_PAqq",
        "outputId": "a490f41a-fc7e-4ead-febc-1c7b3edbbb15",
        "colab": {
          "base_uri": "https://localhost:8080/"
        }
      },
      "outputs": [
        {
          "output_type": "stream",
          "name": "stdout",
          "text": [
            "[0 1 2 3 4 5 6 7 8 9]\n",
            "[0. 1. 2. 3. 4. 5. 6. 7. 8. 9.]\n",
            "[-1.  0.  1.  2.  3.  4.  5.  6.  7.  8.]\n",
            "[0 1 2 3 4 5 6 7 8 9]\n"
          ]
        }
      ],
      "source": [
        "z = np.random.uniform(0,10,10)\n",
        "print (Z-Z%1)\n",
        "print (np.floor(Z))\n",
        "print (np.ceil(Z)-1)\n",
        "print (Z.astype(int))"
      ]
    },
    {
      "cell_type": "markdown",
      "metadata": {
        "id": "oAV3DjMLPAqq"
      },
      "source": [
        "#### 37. Create a 5x5 matrix with row values ranging from 0 to 4 (★★☆) \n",
        "(**hint**: np.arange)"
      ]
    },
    {
      "cell_type": "code",
      "execution_count": 66,
      "metadata": {
        "id": "pKzjK8avPAqr",
        "outputId": "9fc3e7f4-1860-4811-a6dd-85ad2b023908",
        "colab": {
          "base_uri": "https://localhost:8080/"
        }
      },
      "outputs": [
        {
          "output_type": "execute_result",
          "data": {
            "text/plain": [
              "array([[0., 1., 2., 3., 4.],\n",
              "       [0., 1., 2., 3., 4.],\n",
              "       [0., 1., 2., 3., 4.],\n",
              "       [0., 1., 2., 3., 4.],\n",
              "       [0., 1., 2., 3., 4.]])"
            ]
          },
          "metadata": {},
          "execution_count": 66
        }
      ],
      "source": [
        "x = np.zeros((5,5))\n",
        "x+=np.arange(5)\n",
        "x"
      ]
    },
    {
      "cell_type": "markdown",
      "metadata": {
        "id": "QmAn7uITPAqr"
      },
      "source": [
        "#### 38. Consider a generator function that generates 10 integers and use it to build an array (★☆☆) \n",
        "(**hint**: np.fromiter)"
      ]
    },
    {
      "cell_type": "code",
      "execution_count": 67,
      "metadata": {
        "id": "6dRdVsnxPAqr",
        "outputId": "272c2af0-5e23-4f42-808e-91b3783a703f",
        "colab": {
          "base_uri": "https://localhost:8080/"
        }
      },
      "outputs": [
        {
          "output_type": "execute_result",
          "data": {
            "text/plain": [
              "array([0., 1., 2., 3., 4., 5., 6., 7., 8., 9.])"
            ]
          },
          "metadata": {},
          "execution_count": 67
        }
      ],
      "source": [
        "def forma():\n",
        "  for i in range(10):\n",
        "    yield i\n",
        "x = np.fromiter(forma(),dtype=float,count=-1)\n",
        "x"
      ]
    },
    {
      "cell_type": "markdown",
      "metadata": {
        "id": "qgnvDI61PAqr"
      },
      "source": [
        "#### 39. Create a vector of size 10 with values ranging from 0 to 1, both excluded (★★☆) \n",
        "(**hint**: np.linspace)"
      ]
    },
    {
      "cell_type": "code",
      "execution_count": 69,
      "metadata": {
        "id": "gqK3cAzHPAqs",
        "outputId": "f053bc59-41c2-4305-fd58-ea08ae4ca371",
        "colab": {
          "base_uri": "https://localhost:8080/"
        }
      },
      "outputs": [
        {
          "output_type": "execute_result",
          "data": {
            "text/plain": [
              "array([0.09090909, 0.18181818, 0.27272727, 0.36363636, 0.45454545,\n",
              "       0.54545455, 0.63636364, 0.72727273, 0.81818182, 0.90909091])"
            ]
          },
          "metadata": {},
          "execution_count": 69
        }
      ],
      "source": [
        "np.linspace(0,1,12, endpoint = True)[1:-1]"
      ]
    },
    {
      "cell_type": "markdown",
      "metadata": {
        "id": "7rQUW7quPAqs"
      },
      "source": [
        "#### 40. Create a random vector of size 10 and sort it (★★☆) \n",
        "(**hint**: sort)"
      ]
    },
    {
      "cell_type": "code",
      "execution_count": 70,
      "metadata": {
        "id": "jtflHrt5PAqs",
        "outputId": "06404a72-ff64-4c33-d034-49ee31bed3d3",
        "colab": {
          "base_uri": "https://localhost:8080/"
        }
      },
      "outputs": [
        {
          "output_type": "execute_result",
          "data": {
            "text/plain": [
              "array([0., 1., 2., 3., 4., 5., 6., 7., 8., 9.])"
            ]
          },
          "metadata": {},
          "execution_count": 70
        }
      ],
      "source": [
        "np.random.random(10)\n",
        "x.sort()\n",
        "x"
      ]
    },
    {
      "cell_type": "markdown",
      "metadata": {
        "id": "cd14AABnPAqs"
      },
      "source": [
        "#### 41. How to sum a small array faster than np.sum? (★★☆) \n",
        "(**hint**: np.add.reduce)"
      ]
    },
    {
      "cell_type": "code",
      "execution_count": 72,
      "metadata": {
        "id": "AY8hX96PPAqs",
        "outputId": "2c044260-d1ac-4601-b0a4-d4b2578753e2",
        "colab": {
          "base_uri": "https://localhost:8080/"
        }
      },
      "outputs": [
        {
          "output_type": "execute_result",
          "data": {
            "text/plain": [
              "array([2.26694846, 2.61638803, 2.85871265, 3.70522825, 2.34362299])"
            ]
          },
          "metadata": {},
          "execution_count": 72
        }
      ],
      "source": [
        "a=np.random.random((5,5))\n",
        "np.add.reduce(a,dtype=float)"
      ]
    },
    {
      "cell_type": "markdown",
      "metadata": {
        "id": "_uKxPqExPAqs"
      },
      "source": [
        "#### 42. Consider two random array A and B, check if they are equal (★★☆) \n",
        "(**hint**: np.allclose, np.array\\_equal)"
      ]
    },
    {
      "cell_type": "code",
      "execution_count": 74,
      "metadata": {
        "id": "lCfcstqZPAqt",
        "outputId": "58e453d4-0511-46cc-9ff3-4291fdc9e2f9",
        "colab": {
          "base_uri": "https://localhost:8080/"
        }
      },
      "outputs": [
        {
          "output_type": "execute_result",
          "data": {
            "text/plain": [
              "True"
            ]
          },
          "metadata": {},
          "execution_count": 74
        }
      ],
      "source": [
        "x = np.random.randint(0,1,2)\n",
        "y = np.random.randint(0,1,2)\n",
        "e = np.allclose(x,y)\n",
        "e"
      ]
    },
    {
      "cell_type": "markdown",
      "metadata": {
        "id": "KZBwhVWGPAqt"
      },
      "source": [
        "#### 43. Make an array immutable (read-only) (★★☆) \n",
        "(**hint**: flags.writeable)"
      ]
    },
    {
      "cell_type": "code",
      "execution_count": 75,
      "metadata": {
        "id": "yt2EBcqPPAqt"
      },
      "outputs": [],
      "source": [
        "z= np.zeros(10)\n",
        "z.flags.writeable = False"
      ]
    },
    {
      "cell_type": "markdown",
      "metadata": {
        "id": "j-xv8YrUPAqt"
      },
      "source": [
        "#### 44. Consider a random 10x2 matrix representing cartesian coordinates, convert them to polar coordinates (★★☆) \n",
        "(**hint**: np.sqrt, np.arctan2)"
      ]
    },
    {
      "cell_type": "code",
      "execution_count": 78,
      "metadata": {
        "id": "0ffScCAOPAqt",
        "outputId": "92c28f3f-8a36-44d0-e425-db6da6ee627c",
        "colab": {
          "base_uri": "https://localhost:8080/"
        }
      },
      "outputs": [
        {
          "output_type": "execute_result",
          "data": {
            "text/plain": [
              "(array([0.76253449, 0.89836417, 0.2947687 , 0.7046973 , 0.81114132,\n",
              "        0.8872875 , 1.07553451, 0.53820111, 0.78894085, 0.83543692]),\n",
              " array([0.75689513, 0.38867986, 0.1444907 , 0.64951238, 0.99863298,\n",
              "        1.50224383, 0.86695082, 0.46555148, 0.7867052 , 0.75232386]))"
            ]
          },
          "metadata": {},
          "execution_count": 78
        }
      ],
      "source": [
        "x=np.random.random((10,2))\n",
        "a,b=x[:,0],x[:,1]\n",
        "y= np.sqrt(a**2+b**2)\n",
        "t= np.arctan2(b,a)\n",
        "y,t"
      ]
    },
    {
      "cell_type": "markdown",
      "metadata": {
        "id": "K96MVSHBPAqt"
      },
      "source": [
        "#### 45. Create random vector of size 10 and replace the maximum value by 0 (★★☆) \n",
        "(**hint**: argmax)"
      ]
    },
    {
      "cell_type": "code",
      "execution_count": 79,
      "metadata": {
        "id": "2fNIDQODPAqt",
        "outputId": "32c89672-0fb8-4621-f845-cb0dec8cd760",
        "colab": {
          "base_uri": "https://localhost:8080/"
        }
      },
      "outputs": [
        {
          "output_type": "execute_result",
          "data": {
            "text/plain": [
              "array([0.29753058, 0.10293463, 0.20714117, 0.42987036, 0.        ,\n",
              "       0.78982237, 0.65484385, 0.89345185, 0.56483002, 0.4088411 ])"
            ]
          },
          "metadata": {},
          "execution_count": 79
        }
      ],
      "source": [
        "x=np.random.random(10)\n",
        "x[x.argmax()]=0\n",
        "x"
      ]
    },
    {
      "cell_type": "markdown",
      "metadata": {
        "id": "sJJMb_VfPAqu"
      },
      "source": [
        "#### 46. Create a structured array with `x` and `y` coordinates covering the \\[0,1\\]x\\[0,1\\] area (★★☆) \n",
        "(**hint**: np.meshgrid)"
      ]
    },
    {
      "cell_type": "code",
      "execution_count": 80,
      "metadata": {
        "id": "KyBVhrI1PAqu",
        "outputId": "0ee0b9a2-4423-4f79-cd91-08e01b93ad09",
        "colab": {
          "base_uri": "https://localhost:8080/"
        }
      },
      "outputs": [
        {
          "output_type": "execute_result",
          "data": {
            "text/plain": [
              "array([[0.05263158, 0.1       , 0.11111111, 0.09090909, 0.1       ,\n",
              "        0.1       , 0.05555556, 0.0625    , 0.05555556, 0.07692308],\n",
              "       [0.07142857, 0.2       , 0.25      , 0.16666667, 0.2       ,\n",
              "        0.2       , 0.07692308, 0.09090909, 0.07692308, 0.125     ],\n",
              "       [0.07692308, 0.25      , 0.33333333, 0.2       , 0.25      ,\n",
              "        0.25      , 0.08333333, 0.1       , 0.08333333, 0.14285714],\n",
              "       [0.06666667, 0.16666667, 0.2       , 0.14285714, 0.16666667,\n",
              "        0.16666667, 0.07142857, 0.08333333, 0.07142857, 0.11111111],\n",
              "       [0.04761905, 0.08333333, 0.09090909, 0.07692308, 0.08333333,\n",
              "        0.08333333, 0.05      , 0.05555556, 0.05      , 0.06666667],\n",
              "       [0.0625    , 0.14285714, 0.16666667, 0.125     , 0.14285714,\n",
              "        0.14285714, 0.06666667, 0.07692308, 0.06666667, 0.1       ],\n",
              "       [0.07692308, 0.25      , 0.33333333, 0.2       , 0.25      ,\n",
              "        0.25      , 0.08333333, 0.1       , 0.08333333, 0.14285714],\n",
              "       [0.04761905, 0.08333333, 0.09090909, 0.07692308, 0.08333333,\n",
              "        0.08333333, 0.05      , 0.05555556, 0.05      , 0.06666667],\n",
              "       [0.0625    , 0.14285714, 0.16666667, 0.125     , 0.14285714,\n",
              "        0.14285714, 0.06666667, 0.07692308, 0.06666667, 0.1       ],\n",
              "       [0.0625    , 0.14285714, 0.16666667, 0.125     , 0.14285714,\n",
              "        0.14285714, 0.06666667, 0.07692308, 0.06666667, 0.1       ]])"
            ]
          },
          "metadata": {},
          "execution_count": 80
        }
      ],
      "source": [
        "Y= np.random.randint(0,11,10)\n",
        "X= np.random.randint(11,22,10)\n",
        "\n",
        "y= np.tile(Y,(10,1))\n",
        "\n",
        "X= np.tile(X,(10,1)).T\n",
        "\n",
        "C=1/(X-Y)\n",
        "C"
      ]
    },
    {
      "cell_type": "markdown",
      "metadata": {
        "id": "nPX3GMlYPAqu"
      },
      "source": [
        "####  47. Given two arrays, X and Y, construct the Cauchy matrix C (Cij =1/(xi - yj)) \n",
        "(**hint**: np.subtract.outer)"
      ]
    },
    {
      "cell_type": "code",
      "execution_count": 81,
      "metadata": {
        "id": "RVBpfjh_PAqu",
        "outputId": "155d5545-ce12-49aa-d96a-3f7779320755",
        "colab": {
          "base_uri": "https://localhost:8080/"
        }
      },
      "outputs": [
        {
          "output_type": "execute_result",
          "data": {
            "text/plain": [
              "array([[0.09090909, 0.16666667, 0.11111111, 0.1       , 0.07692308,\n",
              "        0.09090909, 0.2       , 0.08333333, 0.09090909, 0.07142857],\n",
              "       [0.09090909, 0.16666667, 0.11111111, 0.1       , 0.07692308,\n",
              "        0.09090909, 0.2       , 0.08333333, 0.09090909, 0.07142857],\n",
              "       [0.09090909, 0.16666667, 0.11111111, 0.1       , 0.07692308,\n",
              "        0.09090909, 0.2       , 0.08333333, 0.09090909, 0.07142857],\n",
              "       [0.09090909, 0.16666667, 0.11111111, 0.1       , 0.07692308,\n",
              "        0.09090909, 0.2       , 0.08333333, 0.09090909, 0.07142857],\n",
              "       [0.09090909, 0.16666667, 0.11111111, 0.1       , 0.07692308,\n",
              "        0.09090909, 0.2       , 0.08333333, 0.09090909, 0.07142857],\n",
              "       [0.09090909, 0.16666667, 0.11111111, 0.1       , 0.07692308,\n",
              "        0.09090909, 0.2       , 0.08333333, 0.09090909, 0.07142857],\n",
              "       [0.09090909, 0.16666667, 0.11111111, 0.1       , 0.07692308,\n",
              "        0.09090909, 0.2       , 0.08333333, 0.09090909, 0.07142857],\n",
              "       [0.09090909, 0.16666667, 0.11111111, 0.1       , 0.07692308,\n",
              "        0.09090909, 0.2       , 0.08333333, 0.09090909, 0.07142857],\n",
              "       [0.09090909, 0.16666667, 0.11111111, 0.1       , 0.07692308,\n",
              "        0.09090909, 0.2       , 0.08333333, 0.09090909, 0.07142857],\n",
              "       [0.09090909, 0.16666667, 0.11111111, 0.1       , 0.07692308,\n",
              "        0.09090909, 0.2       , 0.08333333, 0.09090909, 0.07142857]])"
            ]
          },
          "metadata": {},
          "execution_count": 81
        }
      ],
      "source": [
        "Y= np.random.randint(0,11,10)\n",
        "X= np.random.randint(11,22,10)\n",
        "\n",
        "Y= np.tile(Y,(10,1))\n",
        "x= np.tile(X,(10,1)).T\n",
        "\n",
        "C= 1/(X-Y)\n",
        "C"
      ]
    },
    {
      "cell_type": "markdown",
      "metadata": {
        "id": "WeDfKGLyPAqu"
      },
      "source": [
        "#### 48. Print the minimum and maximum representable value for each numpy scalar type (★★☆) \n",
        "(**hint**: np.iinfo, np.finfo, eps)"
      ]
    },
    {
      "cell_type": "code",
      "execution_count": 83,
      "metadata": {
        "id": "Zw50gkjOPAqu",
        "outputId": "808e074a-c6b5-452b-aba5-a7de5f9d4552",
        "colab": {
          "base_uri": "https://localhost:8080/"
        }
      },
      "outputs": [
        {
          "output_type": "stream",
          "name": "stdout",
          "text": [
            "-128\n",
            "127\n",
            "-2147483648\n",
            "2147483647\n",
            "-9223372036854775808\n",
            "9223372036854775807\n",
            "-3.4028235e+38\n",
            "3.4028235e+38\n",
            "1.1920929e-07\n",
            "-1.7976931348623157e+308\n",
            "1.7976931348623157e+308\n",
            "2.220446049250313e-16\n"
          ]
        }
      ],
      "source": [
        "for dtype in [np.int8, np.int32, np.int64]:\n",
        "  print(np.iinfo(dtype).min)\n",
        "  print(np.iinfo(dtype).max)\n",
        "for dtype in [np.float32, np.float64]:\n",
        "  print(np.finfo(dtype).min)\n",
        "  print(np.finfo(dtype).max)\n",
        "  print(np.finfo(dtype).eps)   "
      ]
    },
    {
      "cell_type": "markdown",
      "metadata": {
        "id": "1_aILaNlPAqu"
      },
      "source": [
        "#### 49. How to print all the values of an array? (★★☆) \n",
        "(**hint**: np.set\\_printoptions)"
      ]
    },
    {
      "cell_type": "code",
      "execution_count": 84,
      "metadata": {
        "id": "K50Qp8OZPAqu",
        "outputId": "d287fd72-d352-4922-a4e6-5deaba50cc09",
        "colab": {
          "base_uri": "https://localhost:8080/"
        }
      },
      "outputs": [
        {
          "output_type": "stream",
          "name": "stdout",
          "text": [
            "[]\n"
          ]
        }
      ],
      "source": [
        "Z=[]\n",
        "print(Z)"
      ]
    },
    {
      "cell_type": "markdown",
      "metadata": {
        "id": "laYWe8TNPAqu"
      },
      "source": [
        "#### 50. How to find the closest value (to a given scalar) in a vector? (★★☆) \n",
        "(**hint**: argmin)"
      ]
    },
    {
      "cell_type": "code",
      "execution_count": 85,
      "metadata": {
        "id": "8t2hSwPrPAqu",
        "outputId": "b33a6418-1370-469a-dd55-ba639998b547",
        "colab": {
          "base_uri": "https://localhost:8080/"
        }
      },
      "outputs": [
        {
          "output_type": "stream",
          "name": "stdout",
          "text": [
            "[3.27786875 7.5186653  9.1201778  1.06330965 3.1503524  1.22762573\n",
            " 5.07132712 0.38669769 5.10797446 3.71939252]\n",
            "************************************************************\n",
            "5.0713271185000615\n"
          ]
        }
      ],
      "source": [
        "arr = np.random.uniform(0,10,10)\n",
        "scal =5\n",
        "arr_1 = np.abs(arr-5)\n",
        "ind = arr_1.argmin()\n",
        "print(arr)\n",
        "print('*'*60)\n",
        "print(arr[ind])"
      ]
    },
    {
      "cell_type": "markdown",
      "metadata": {
        "id": "Su5gEnpHPAqu"
      },
      "source": [
        "#### 51. Create a structured array representing a position (x,y) and a color (r,g,b) (★★☆) \n",
        "(**hint**: dtype)"
      ]
    },
    {
      "cell_type": "code",
      "execution_count": 88,
      "metadata": {
        "id": "ils7qKrBPAqv",
        "outputId": "9687c67c-795e-4fe4-cacc-1b0d5f8ccf29",
        "colab": {
          "base_uri": "https://localhost:8080/"
        }
      },
      "outputs": [
        {
          "output_type": "stream",
          "name": "stdout",
          "text": [
            "[((0., 0.), (0., 0., 0.)) ((0., 0.), (0., 0., 0.))\n",
            " ((0., 0.), (0., 0., 0.)) ((0., 0.), (0., 0., 0.))\n",
            " ((0., 0.), (0., 0., 0.)) ((0., 0.), (0., 0., 0.))\n",
            " ((0., 0.), (0., 0., 0.)) ((0., 0.), (0., 0., 0.))\n",
            " ((0., 0.), (0., 0., 0.)) ((0., 0.), (0., 0., 0.))]\n"
          ]
        }
      ],
      "source": [
        "Z = np.zeros(10, [ ('position', [ ('x', float),\n",
        "                                  ('y', float)]),\n",
        "                   ('color',    [ ('r', float),\n",
        "                                  ('g', float),\n",
        "                                  ('b', float)])])\n",
        "print(Z)"
      ]
    },
    {
      "cell_type": "markdown",
      "metadata": {
        "id": "rBe6pW6jPAqv"
      },
      "source": [
        "#### 52. Consider a random vector with shape (100,2) representing coordinates, find point by point distances (★★☆) \n",
        "(**hint**: np.atleast\\_2d, T, np.sqrt)"
      ]
    },
    {
      "cell_type": "code",
      "execution_count": 89,
      "metadata": {
        "id": "QZ4-m5O2PAqv",
        "outputId": "60cf1700-cb88-4595-9eb2-f69899c43699",
        "colab": {
          "base_uri": "https://localhost:8080/"
        }
      },
      "outputs": [
        {
          "output_type": "stream",
          "name": "stdout",
          "text": [
            "[[0.         0.27211646 0.49028132 0.27129473 0.18073893 0.29510615\n",
            "  0.5115115  0.56482316 0.63144838 0.59864711]\n",
            " [0.27211646 0.         0.22781004 0.35661784 0.44275299 0.46195734\n",
            "  0.55765633 0.35936248 0.49340407 0.43132314]\n",
            " [0.49028132 0.22781004 0.         0.56991294 0.64660225 0.68487465\n",
            "  0.73997253 0.2018867  0.38743902 0.3054539 ]\n",
            " [0.27129473 0.35661784 0.56991294 0.         0.39912493 0.13406011\n",
            "  0.24094397 0.71535344 0.83266704 0.7799963 ]\n",
            " [0.18073893 0.44275299 0.64660225 0.39912493 0.         0.36122946\n",
            "  0.62158558 0.6833896  0.70603359 0.69305508]\n",
            " [0.29510615 0.46195734 0.68487465 0.13406011 0.36122946 0.\n",
            "  0.27039888 0.81293208 0.91061101 0.86661524]\n",
            " [0.5115115  0.55765633 0.73997253 0.24094397 0.62158558 0.27039888\n",
            "  0.         0.9119632  1.04943814 0.98895773]\n",
            " [0.56482316 0.35936248 0.2018867  0.71535344 0.6833896  0.81293208\n",
            "  0.9119632  0.         0.19159476 0.10710755]\n",
            " [0.63144838 0.49340407 0.38743902 0.83266704 0.70603359 0.91061101\n",
            "  1.04943814 0.19159476 0.         0.08461578]\n",
            " [0.59864711 0.43132314 0.3054539  0.7799963  0.69305508 0.86661524\n",
            "  0.98895773 0.10710755 0.08461578 0.        ]]\n"
          ]
        }
      ],
      "source": [
        "arr = np.random.random((100,2))\n",
        "X,Y = np.atleast_2d(arr[:,0],arr[:,1])\n",
        "D= np.sqrt((X-X.T)**2+(Y-Y.T)**2)\n",
        "\n",
        "import scipy\n",
        "import scipy .spatial\n",
        "\n",
        "Z= np.random.random((10,2))\n",
        "D= scipy.spatial.distance.cdist(Z,Z)\n",
        "print(D)"
      ]
    },
    {
      "cell_type": "markdown",
      "metadata": {
        "id": "ICd-5u_sPAqv"
      },
      "source": [
        "#### 53. How to convert a float (32 bits) array into an integer (32 bits) in place? \n",
        "(**hint**: astype(copy=False))"
      ]
    },
    {
      "cell_type": "code",
      "execution_count": 90,
      "metadata": {
        "id": "Z0BhD4QHPAqv",
        "outputId": "b58df21e-4fe4-473b-92a9-1e50b462b5a7",
        "colab": {
          "base_uri": "https://localhost:8080/"
        }
      },
      "outputs": [
        {
          "output_type": "stream",
          "name": "stdout",
          "text": [
            "[2. 1. 2. 3. 4. 5. 6. 7. 8. 9.]\n"
          ]
        }
      ],
      "source": [
        "Z= np.arange (10,dtype=np.float32)\n",
        "Z_1 = Z.astype(np.float32, copy= False)\n",
        "Z_1[0] =2\n",
        "print(Z)"
      ]
    },
    {
      "cell_type": "markdown",
      "metadata": {
        "id": "eDxOrlq-PAqv"
      },
      "source": [
        "#### 54. How to read the following file? (★★☆) \n",
        "(**hint**: np.genfromtxt)"
      ]
    },
    {
      "cell_type": "markdown",
      "metadata": {
        "id": "ZGgOqjByPAqv"
      },
      "source": [
        "```\n",
        "1, 2, 3, 4, 5\n",
        "6,  ,  , 7, 8\n",
        " ,  , 9,10,11\n",
        "```"
      ]
    },
    {
      "cell_type": "code",
      "execution_count": 94,
      "metadata": {
        "id": "EwFWWg7KPAqv",
        "outputId": "144299ed-771f-4c4c-cd4e-cc705a2f8dd4",
        "colab": {
          "base_uri": "https://localhost:8080/",
          "height": 390
        }
      },
      "outputs": [
        {
          "output_type": "error",
          "ename": "ImportError",
          "evalue": "ignored",
          "traceback": [
            "\u001b[0;31m---------------------------------------------------------------------------\u001b[0m",
            "\u001b[0;31mImportError\u001b[0m                               Traceback (most recent call last)",
            "\u001b[0;32m<ipython-input-94-05e0af66242d>\u001b[0m in \u001b[0;36m<module>\u001b[0;34m\u001b[0m\n\u001b[0;32m----> 1\u001b[0;31m \u001b[0;32mfrom\u001b[0m \u001b[0mio\u001b[0m \u001b[0;32mimport\u001b[0m \u001b[0mstringIO\u001b[0m\u001b[0;34m\u001b[0m\u001b[0;34m\u001b[0m\u001b[0m\n\u001b[0m\u001b[1;32m      2\u001b[0m \u001b[0;34m\u001b[0m\u001b[0m\n\u001b[1;32m      3\u001b[0m s = StringIO(\"\"\"1, 2, 3, 4, 5\\n\n\u001b[1;32m      4\u001b[0m                 \u001b[0;36m6\u001b[0m\u001b[0;34m,\u001b[0m  \u001b[0;34m,\u001b[0m  \u001b[0;34m,\u001b[0m \u001b[0;36m7\u001b[0m\u001b[0;34m,\u001b[0m \u001b[0;36m8\u001b[0m\u001b[0;31m\\\u001b[0m\u001b[0mn\u001b[0m\u001b[0;34m\u001b[0m\u001b[0;34m\u001b[0m\u001b[0m\n\u001b[1;32m      5\u001b[0m                  ,  , 9,10,11\\n\"\"\")\n",
            "\u001b[0;31mImportError\u001b[0m: cannot import name 'stringIO' from 'io' (/usr/lib/python3.7/io.py)",
            "",
            "\u001b[0;31m---------------------------------------------------------------------------\u001b[0;32m\nNOTE: If your import is failing due to a missing package, you can\nmanually install dependencies using either !pip or !apt.\n\nTo view examples of installing some common dependencies, click the\n\"Open Examples\" button below.\n\u001b[0;31m---------------------------------------------------------------------------\u001b[0m\n"
          ],
          "errorDetails": {
            "actions": [
              {
                "action": "open_url",
                "actionText": "Open Examples",
                "url": "/notebooks/snippets/importing_libraries.ipynb"
              }
            ]
          }
        }
      ],
      "source": [
        "from io import stringIO\n",
        "\n",
        "s = StringIO(\"\"\"1, 2, 3, 4, 5\\n\n",
        "                6,  ,  , 7, 8\\n\n",
        "                 ,  , 9,10,11\\n\"\"\")\n",
        "Z = np.genfromtxt(s, delimiter=\",\", dtype=np.int)\n",
        "print(Z)"
      ]
    },
    {
      "cell_type": "markdown",
      "metadata": {
        "id": "kxR51m7yPAqw"
      },
      "source": [
        "#### 55. What is the equivalent of enumerate for numpy arrays? (★★☆) \n",
        "(**hint**: np.ndenumerate, np.ndindex)"
      ]
    },
    {
      "cell_type": "code",
      "execution_count": 95,
      "metadata": {
        "id": "Gj6C4YVTPAqw",
        "outputId": "6d0d9904-f077-4282-c5f2-3782cf25a767",
        "colab": {
          "base_uri": "https://localhost:8080/"
        }
      },
      "outputs": [
        {
          "output_type": "stream",
          "name": "stdout",
          "text": [
            "(0, 0) 0\n",
            "(0, 1) 1\n",
            "(0, 2) 2\n",
            "(1, 0) 3\n",
            "(1, 1) 4\n",
            "(1, 2) 5\n",
            "(2, 0) 6\n",
            "(2, 1) 7\n",
            "(2, 2) 8\n",
            "(0, 0) 0\n",
            "(0, 1) 1\n",
            "(0, 2) 2\n",
            "(1, 0) 3\n",
            "(1, 1) 4\n",
            "(1, 2) 5\n",
            "(2, 0) 6\n",
            "(2, 1) 7\n",
            "(2, 2) 8\n"
          ]
        }
      ],
      "source": [
        "Z = np.arange(9).reshape(3,3)\n",
        "for index, value in np.ndenumerate(Z):\n",
        "  print(index, value)\n",
        "for index in np.ndindex(Z.shape):\n",
        "  print(index, Z[index])"
      ]
    },
    {
      "cell_type": "markdown",
      "metadata": {
        "id": "YU91NPzePAqw"
      },
      "source": [
        "#### 56. Generate a generic 2D Gaussian-like array (★★☆) \n",
        "(**hint**: np.meshgrid, np.exp)"
      ]
    },
    {
      "cell_type": "code",
      "execution_count": 98,
      "metadata": {
        "id": "NXm5gVsWPAqw",
        "outputId": "0f82af35-8287-4cf8-d5c1-4476da017e5e",
        "colab": {
          "base_uri": "https://localhost:8080/"
        }
      },
      "outputs": [
        {
          "output_type": "stream",
          "name": "stdout",
          "text": [
            "[[0.36787944 0.44822088 0.51979489 0.57375342 0.60279818 0.60279818\n",
            "  0.57375342 0.51979489 0.44822088 0.36787944]\n",
            " [0.44822088 0.54610814 0.63331324 0.69905581 0.73444367 0.73444367\n",
            "  0.69905581 0.63331324 0.54610814 0.44822088]\n",
            " [0.51979489 0.63331324 0.73444367 0.81068432 0.85172308 0.85172308\n",
            "  0.81068432 0.73444367 0.63331324 0.51979489]\n",
            " [0.57375342 0.69905581 0.81068432 0.89483932 0.9401382  0.9401382\n",
            "  0.89483932 0.81068432 0.69905581 0.57375342]\n",
            " [0.60279818 0.73444367 0.85172308 0.9401382  0.98773022 0.98773022\n",
            "  0.9401382  0.85172308 0.73444367 0.60279818]\n",
            " [0.60279818 0.73444367 0.85172308 0.9401382  0.98773022 0.98773022\n",
            "  0.9401382  0.85172308 0.73444367 0.60279818]\n",
            " [0.57375342 0.69905581 0.81068432 0.89483932 0.9401382  0.9401382\n",
            "  0.89483932 0.81068432 0.69905581 0.57375342]\n",
            " [0.51979489 0.63331324 0.73444367 0.81068432 0.85172308 0.85172308\n",
            "  0.81068432 0.73444367 0.63331324 0.51979489]\n",
            " [0.44822088 0.54610814 0.63331324 0.69905581 0.73444367 0.73444367\n",
            "  0.69905581 0.63331324 0.54610814 0.44822088]\n",
            " [0.36787944 0.44822088 0.51979489 0.57375342 0.60279818 0.60279818\n",
            "  0.57375342 0.51979489 0.44822088 0.36787944]]\n"
          ]
        }
      ],
      "source": [
        "sigma,myu = 1.0,0.0\n",
        "\n",
        "X,Y = np.meshgrid(np.linspace (-1,1,10),np.linspace(-1,1,10))\n",
        "D= np.sqrt(X**2+Y**2)\n",
        "G= np.exp(-(D-myu)**2/(2*sigma**2))\n",
        "print(G)"
      ]
    },
    {
      "cell_type": "markdown",
      "metadata": {
        "id": "RKzVMAvNPAqw"
      },
      "source": [
        "#### 57. How to randomly place p elements in a 2D array? (★★☆) \n",
        "(**hint**: np.put, np.random.choice)"
      ]
    },
    {
      "cell_type": "code",
      "execution_count": 99,
      "metadata": {
        "id": "ym5fL606PAqw",
        "outputId": "e736a070-b4ae-4afd-b873-fe8421a77e93",
        "colab": {
          "base_uri": "https://localhost:8080/"
        }
      },
      "outputs": [
        {
          "output_type": "stream",
          "name": "stdout",
          "text": [
            "[[0. 0. 0. 0. 0. 0. 0. 0. 0. 0.]\n",
            " [0. 0. 0. 1. 0. 0. 0. 0. 0. 0.]\n",
            " [0. 0. 0. 0. 0. 0. 0. 0. 0. 0.]\n",
            " [0. 0. 0. 0. 0. 0. 0. 0. 0. 0.]\n",
            " [0. 0. 0. 0. 0. 0. 0. 0. 0. 0.]\n",
            " [0. 0. 0. 0. 0. 0. 0. 0. 0. 0.]\n",
            " [0. 0. 0. 0. 1. 0. 0. 0. 0. 0.]\n",
            " [0. 0. 0. 0. 0. 0. 0. 0. 1. 0.]\n",
            " [0. 0. 0. 0. 0. 0. 0. 0. 0. 0.]\n",
            " [0. 0. 0. 0. 0. 0. 0. 0. 0. 0.]]\n",
            "[[0. 0. 0. 0. 0. 0. 0. 0. 0. 0.]\n",
            " [0. 1. 0. 1. 0. 0. 0. 0. 0. 0.]\n",
            " [0. 0. 0. 0. 0. 0. 0. 0. 0. 0.]\n",
            " [0. 0. 0. 0. 0. 0. 0. 0. 0. 0.]\n",
            " [0. 0. 0. 0. 0. 0. 0. 0. 0. 0.]\n",
            " [0. 0. 0. 0. 0. 0. 0. 0. 0. 0.]\n",
            " [0. 0. 0. 0. 1. 0. 0. 0. 0. 0.]\n",
            " [0. 0. 0. 0. 0. 0. 0. 0. 1. 0.]\n",
            " [0. 0. 0. 0. 0. 0. 0. 0. 0. 0.]\n",
            " [0. 0. 0. 0. 0. 0. 0. 0. 0. 0.]]\n"
          ]
        }
      ],
      "source": [
        "n= 10\n",
        "p= 3 \n",
        "Z = np.zeros((n,n))\n",
        "np.put(Z,np.random.choice(range(n*n),p,replace=False),1)\n",
        "print(Z)\n",
        "\n",
        "np.put(Z,11,1)\n",
        "print(Z)"
      ]
    },
    {
      "cell_type": "markdown",
      "metadata": {
        "id": "xu66o15rPAqw"
      },
      "source": [
        "#### 58. Subtract the mean of each row of a matrix (★★☆) \n",
        "(**hint**: mean(axis=,keepdims=))"
      ]
    },
    {
      "cell_type": "code",
      "execution_count": 6,
      "metadata": {
        "id": "MVbsgiGSPAqw",
        "outputId": "5f43a06f-8309-4130-e2d8-d9ac1ee969fe",
        "colab": {
          "base_uri": "https://localhost:8080/"
        }
      },
      "outputs": [
        {
          "output_type": "execute_result",
          "data": {
            "text/plain": [
              "array([[ True],\n",
              "       [ True],\n",
              "       [ True],\n",
              "       [ True],\n",
              "       [ True]])"
            ]
          },
          "metadata": {},
          "execution_count": 6
        }
      ],
      "source": [
        "import numpy as np\n",
        "X= np.random.rand (5,10)\n",
        "Y= X-X.mean(axis =1 ,keepdims = True)\n",
        "\n",
        "X.mean (axis=1).reshape(-1,1) == X.mean(axis =1, keepdims= True)"
      ]
    },
    {
      "cell_type": "markdown",
      "metadata": {
        "id": "iNcdBjgBPAqw"
      },
      "source": [
        "#### 59. How to sort an array by the nth column? (★★☆) \n",
        "(**hint**: argsort)"
      ]
    },
    {
      "cell_type": "code",
      "execution_count": 7,
      "metadata": {
        "id": "g7tq1fL5PAqw",
        "outputId": "2118fa4e-a858-406a-a2ad-1c335773a336",
        "colab": {
          "base_uri": "https://localhost:8080/"
        }
      },
      "outputs": [
        {
          "output_type": "stream",
          "name": "stdout",
          "text": [
            "[[4 3 4 5 5]\n",
            " [4 4 0 1 3]\n",
            " [0 7 7 3 4]\n",
            " [0 9 1 7 9]\n",
            " [0 1 7 5 6]]\n",
            "[[0 9 1 7 9]\n",
            " [0 7 7 3 4]\n",
            " [4 4 0 1 3]\n",
            " [4 3 4 5 5]\n",
            " [0 1 7 5 6]]\n",
            "[[4 5 5 4 3]\n",
            " [0 1 3 4 4]\n",
            " [7 3 4 0 7]\n",
            " [1 7 9 0 9]\n",
            " [7 5 6 0 1]]\n"
          ]
        }
      ],
      "source": [
        "Z= np.random.randint(0,10,(5,5))\n",
        "print(Z)\n",
        "\n",
        "print(Z[(-Z)[:,1].argsort()])\n",
        "print(Z[:,Z[1,:].argsort()])"
      ]
    },
    {
      "cell_type": "markdown",
      "metadata": {
        "id": "EBsDAQfMPAqx"
      },
      "source": [
        "#### 60. How to tell if a given 2D array has null columns? (★★☆) \n",
        "(**hint**: any, ~)"
      ]
    },
    {
      "cell_type": "code",
      "execution_count": 8,
      "metadata": {
        "id": "TTMc81TzPAqx",
        "outputId": "dee5098d-f424-4d5c-8de1-27ee16821aaf",
        "colab": {
          "base_uri": "https://localhost:8080/"
        }
      },
      "outputs": [
        {
          "output_type": "stream",
          "name": "stdout",
          "text": [
            "[[False False  True False  True  True False False False  True]\n",
            " [False False  True  True  True  True  True False  True  True]\n",
            " [False False  True  True False  True False  True  True  True]]\n",
            "[[ True  True False  True False False  True  True  True False]\n",
            " [ True  True False False False False False  True False False]\n",
            " [ True  True False False  True False  True False False False]]\n"
          ]
        },
        {
          "output_type": "execute_result",
          "data": {
            "text/plain": [
              "array([False, False,  True,  True,  True,  True,  True,  True,  True,\n",
              "        True])"
            ]
          },
          "metadata": {},
          "execution_count": 8
        }
      ],
      "source": [
        "Z= np.random.randint(0,3,(3,10))\n",
        "Z[:,1]=0\n",
        "Z=Z.astype(bool)\n",
        "print(Z)\n",
        "print(~Z)\n",
        "(Z).any (axis=0)"
      ]
    },
    {
      "cell_type": "markdown",
      "metadata": {
        "id": "ui6OnZPlPAqx"
      },
      "source": [
        "#### 61. Find the nearest value from a given value in an array (★★☆) \n",
        "(**hint**: np.abs, argmin, flat)"
      ]
    },
    {
      "cell_type": "code",
      "execution_count": 2,
      "metadata": {
        "id": "EZCzl_ZJPAqx"
      },
      "outputs": [],
      "source": []
    },
    {
      "cell_type": "markdown",
      "metadata": {
        "id": "mRPXtuPgPAqx"
      },
      "source": [
        "#### 62. Considering two arrays with shape (1,3) and (3,1), how to compute their sum using an iterator? (★★☆) \n",
        "(**hint**: np.nditer)"
      ]
    },
    {
      "cell_type": "code",
      "execution_count": 12,
      "metadata": {
        "id": "L27MK2wSPAqx",
        "outputId": "773cbb5a-9a5d-493d-a152-0499e3052d88",
        "colab": {
          "base_uri": "https://localhost:8080/"
        }
      },
      "outputs": [
        {
          "output_type": "stream",
          "name": "stdout",
          "text": [
            "[[0 1 2]\n",
            " [1 2 3]\n",
            " [2 3 4]]\n"
          ]
        }
      ],
      "source": [
        "A= np.arange(3).reshape(3,1)\n",
        "B= np.arange(3).reshape(1,3)\n",
        "it= np.nditer ([A,B,None])\n",
        "for x,y,z in it: z[...]= x+y\n",
        "print(it.operands[2])"
      ]
    },
    {
      "cell_type": "markdown",
      "metadata": {
        "id": "I1qwJnG9PAqx"
      },
      "source": [
        "#### 63. Create an array class that has a name attribute (★★☆) \n",
        "(**hint**: class method)"
      ]
    },
    {
      "cell_type": "code",
      "execution_count": 13,
      "metadata": {
        "id": "N1r9pE35PAqx",
        "outputId": "639a585c-f519-44b2-efbf-d50582052307",
        "colab": {
          "base_uri": "https://localhost:8080/"
        }
      },
      "outputs": [
        {
          "output_type": "stream",
          "name": "stdout",
          "text": [
            "range_10\n"
          ]
        }
      ],
      "source": [
        "class NamedArray(np.ndarray):\n",
        "    def __new__(cls, array, name=\"no name\"):\n",
        "        obj = np.asarray(array).view(cls)\n",
        "        obj.name = name\n",
        "        return obj\n",
        "    def __array_finalize__(self, obj):\n",
        "        if obj is None: return\n",
        "        self.info = getattr(obj, 'name', \"no name\")\n",
        "\n",
        "Z = NamedArray(np.arange(10), \"range_10\")\n",
        "print (Z.name)"
      ]
    },
    {
      "cell_type": "markdown",
      "metadata": {
        "id": "zkxGZJwkPAqx"
      },
      "source": [
        "#### 64. Consider a given vector, how to add 1 to each element indexed by a second vector (be careful with repeated indices)? (★★★) \n",
        "(**hint**: np.bincount | np.add.at)"
      ]
    },
    {
      "cell_type": "code",
      "execution_count": 15,
      "metadata": {
        "id": "4naca5BxPAqx",
        "outputId": "82941e24-6d8a-4577-b60a-aff81d9f9484",
        "colab": {
          "base_uri": "https://localhost:8080/"
        }
      },
      "outputs": [
        {
          "output_type": "stream",
          "name": "stdout",
          "text": [
            "[3. 4. 3. 5. 4. 1. 1. 4. 3. 2.]\n",
            "[5. 7. 5. 9. 7. 1. 1. 7. 5. 3.]\n"
          ]
        }
      ],
      "source": [
        "Z = np.ones(10)\n",
        "I= np.random.randint(0,len(Z),20)\n",
        "Z += np.bincount(I, minlength= len(Z))\n",
        "print(Z)\n",
        "np.add.at(Z,I,1)\n",
        "print(Z)"
      ]
    },
    {
      "cell_type": "markdown",
      "metadata": {
        "id": "iv6q2Y_jPAqx"
      },
      "source": [
        "#### 65. How to accumulate elements of a vector (X) to an array (F) based on an index list (I)? (★★★) \n",
        "(**hint**: np.bincount)"
      ]
    },
    {
      "cell_type": "code",
      "execution_count": 16,
      "metadata": {
        "id": "VHpOX5C3PAqy",
        "outputId": "71eb6205-2b35-45ab-bd2e-e7047b8bfe3d",
        "colab": {
          "base_uri": "https://localhost:8080/"
        }
      },
      "outputs": [
        {
          "output_type": "stream",
          "name": "stdout",
          "text": [
            "[0. 7. 5. 2. 0. 3. 0. 0. 0. 4.]\n"
          ]
        }
      ],
      "source": [
        "X= [1,2,3,4,5,6]\n",
        "I= [1,3,5,9,2,1]\n",
        "F= np.bincount(I,X)\n",
        "print(F)"
      ]
    },
    {
      "cell_type": "markdown",
      "metadata": {
        "id": "6URv-HkjPAqy"
      },
      "source": [
        "#### 66. Considering a (w,h,3) image of (dtype=ubyte), compute the number of unique colors (★★★) \n",
        "(**hint**: np.unique)"
      ]
    },
    {
      "cell_type": "code",
      "execution_count": 17,
      "metadata": {
        "id": "A-muyLJgPAqy",
        "outputId": "f807a571-f26c-4b73-95d5-a8b2956ce20f",
        "colab": {
          "base_uri": "https://localhost:8080/"
        }
      },
      "outputs": [
        {
          "output_type": "stream",
          "name": "stdout",
          "text": [
            "64\n",
            "64\n"
          ]
        }
      ],
      "source": [
        "w, h = 256, 256\n",
        "I = np.random.randint(0, 4, (h, w, 3)).astype(np.ubyte)\n",
        "colors = np.unique(I.reshape(-1, 3), axis=0)\n",
        "n = len(colors)\n",
        "print(n)\n",
        "\n",
        "\n",
        "w, h = 256, 256\n",
        "I = np.random.randint(0,4,(h,w,3), dtype=np.uint8)\n",
        "\n",
        "I24 = np.dot(I.astype(np.uint32),[1,256,65536])\n",
        "\n",
        "n = len(np.unique(I24))\n",
        "print(n)"
      ]
    },
    {
      "cell_type": "markdown",
      "metadata": {
        "id": "9FgEMqBYPAqy"
      },
      "source": [
        "#### 67. Considering a four dimensions array, how to get sum over the last two axis at once? (★★★) \n",
        "(**hint**: sum(axis=(-2,-1)))"
      ]
    },
    {
      "cell_type": "code",
      "execution_count": 23,
      "metadata": {
        "id": "N5baslMGPAqy",
        "outputId": "89260cae-b38e-4797-bb95-378cf0aa474b",
        "colab": {
          "base_uri": "https://localhost:8080/"
        }
      },
      "outputs": [
        {
          "output_type": "stream",
          "name": "stdout",
          "text": [
            "[[48 74 61 38]\n",
            " [49 54 45 67]\n",
            " [59 71 68 56]]\n",
            "[[48 74 61 38]\n",
            " [49 54 45 67]\n",
            " [59 71 68 56]]\n"
          ]
        }
      ],
      "source": [
        "A = np.random.randint(0,10,(3,4,3,4)) \n",
        "sum = A.sum(axis=(-2,-1))\n",
        "print(sum)\n",
        "sum = A.reshape(A.shape[:-2] + (-1,)).sum(axis=-1)\n",
        "print(sum)"
      ]
    },
    {
      "cell_type": "markdown",
      "metadata": {
        "id": "hJo-8c68PAqy"
      },
      "source": [
        "#### 68. Considering a one-dimensional vector D, how to compute means of subsets of D using a vector S of same size describing subset  indices? (★★★) \n",
        "(**hint**: np.bincount)"
      ]
    },
    {
      "cell_type": "code",
      "execution_count": 31,
      "metadata": {
        "id": "gUurCi86PAqy",
        "outputId": "bc1598eb-088f-4c5e-f9d9-6b00a40167c6",
        "colab": {
          "base_uri": "https://localhost:8080/"
        }
      },
      "outputs": [
        {
          "output_type": "stream",
          "name": "stdout",
          "text": [
            "[0.44875562 0.64639934 0.56862604 0.50511987 0.5436084  0.48772038\n",
            " 0.63561356 0.5954765  0.5785606  0.63854531]\n",
            "0    0.448756\n",
            "1    0.646399\n",
            "2    0.568626\n",
            "3    0.505120\n",
            "4    0.543608\n",
            "5    0.487720\n",
            "6    0.635614\n",
            "7    0.595476\n",
            "8    0.578561\n",
            "9    0.638545\n",
            "dtype: float64\n"
          ]
        }
      ],
      "source": [
        "D = np.random.uniform(0,1,100)\n",
        "S = np.random.randint(0,10,100)\n",
        "D_sums = np.bincount(S, weights=D)\n",
        "D_counts= np.bincount(S)\n",
        "D_means = D_sums/D_counts\n",
        "print(D_means)\n",
        "import pandas as pd\n",
        "print(pd.Series(D).groupby(S).mean())"
      ]
    },
    {
      "cell_type": "markdown",
      "metadata": {
        "id": "87YshfOjPAqy"
      },
      "source": [
        "#### 69. How to get the diagonal of a dot product? (★★★) \n",
        "(**hint**: np.diag)"
      ]
    },
    {
      "cell_type": "code",
      "execution_count": 33,
      "metadata": {
        "id": "edwauoqwPAqy",
        "outputId": "52adeb29-c6c3-4b22-c45d-5265d6b458a6",
        "colab": {
          "base_uri": "https://localhost:8080/"
        }
      },
      "outputs": [
        {
          "output_type": "execute_result",
          "data": {
            "text/plain": [
              "array([2.25481832, 1.2051091 , 1.19733862, 0.87577723, 0.79938972])"
            ]
          },
          "metadata": {},
          "execution_count": 33
        }
      ],
      "source": [
        "A = np.random.uniform(0,1,(5,5))\n",
        "B = np.random.uniform(0,1,(5,5))\n",
        "\n",
        "# Slow version\n",
        "np.diag(np.dot(A, B))\n",
        "\n",
        "# Fast version\n",
        "np.sum(A * B.T, axis=1)\n",
        "\n",
        "# Faster version\n",
        "np.einsum(\"ij,ji->i\", A, B)\n"
      ]
    },
    {
      "cell_type": "markdown",
      "metadata": {
        "id": "SKoULy4-PAqy"
      },
      "source": [
        "#### 70. Consider the vector \\[1, 2, 3, 4, 5\\], how to build a new vector with 3 consecutive zeros interleaved between each value? (★★★) \n",
        "(**hint**: array\\[::4\\])"
      ]
    },
    {
      "cell_type": "code",
      "execution_count": 34,
      "metadata": {
        "id": "91pJlrMwPAqy",
        "outputId": "5f422b4a-1121-4add-db90-0f68d3201c6b",
        "colab": {
          "base_uri": "https://localhost:8080/"
        }
      },
      "outputs": [
        {
          "output_type": "stream",
          "name": "stdout",
          "text": [
            "[1. 0. 0. 0. 2. 0. 0. 0. 3. 0. 0. 0. 4. 0. 0. 0. 5.]\n"
          ]
        }
      ],
      "source": [
        "Z = np.array ([1,2,3,4,5])\n",
        "nz=3\n",
        "Z0 = np.zeros(len(Z)+(len(Z)-1)*(nz))\n",
        "Z0[::nz+1]=Z\n",
        "print(Z0)"
      ]
    },
    {
      "cell_type": "markdown",
      "metadata": {
        "id": "4W0dO6A4PAqz"
      },
      "source": [
        "#### 71. Consider an array of dimension (5,5,3), how to mulitply it by an array with dimensions (5,5)? (★★★) \n",
        "(**hint**: array\\[:, :, None\\])"
      ]
    },
    {
      "cell_type": "code",
      "execution_count": 2,
      "metadata": {
        "collapsed": true,
        "id": "HnXqbTTrPAqz",
        "outputId": "4b32d997-b113-458f-e76c-b8f020806d8f",
        "colab": {
          "base_uri": "https://localhost:8080/"
        }
      },
      "outputs": [
        {
          "output_type": "stream",
          "name": "stdout",
          "text": [
            "[[[2. 2. 2.]\n",
            "  [2. 2. 2.]\n",
            "  [2. 2. 2.]\n",
            "  [2. 2. 2.]\n",
            "  [2. 2. 2.]]\n",
            "\n",
            " [[2. 2. 2.]\n",
            "  [2. 2. 2.]\n",
            "  [2. 2. 2.]\n",
            "  [2. 2. 2.]\n",
            "  [2. 2. 2.]]\n",
            "\n",
            " [[2. 2. 2.]\n",
            "  [2. 2. 2.]\n",
            "  [2. 2. 2.]\n",
            "  [2. 2. 2.]\n",
            "  [2. 2. 2.]]\n",
            "\n",
            " [[2. 2. 2.]\n",
            "  [2. 2. 2.]\n",
            "  [2. 2. 2.]\n",
            "  [2. 2. 2.]\n",
            "  [2. 2. 2.]]\n",
            "\n",
            " [[2. 2. 2.]\n",
            "  [2. 2. 2.]\n",
            "  [2. 2. 2.]\n",
            "  [2. 2. 2.]\n",
            "  [2. 2. 2.]]]\n"
          ]
        }
      ],
      "source": [
        "import numpy as np\n",
        "A = np.ones((5,5,3))\n",
        "B = 2*np.ones((5,5))\n",
        "print(A * B[:,:, None])"
      ]
    },
    {
      "cell_type": "markdown",
      "metadata": {
        "id": "0Jn3i8RGPAqz"
      },
      "source": [
        "#### 72. How to swap two rows of an array? (★★★) \n",
        "(**hint**: array\\[\\[\\]\\] = array\\[\\[\\]\\])"
      ]
    },
    {
      "cell_type": "code",
      "execution_count": 3,
      "metadata": {
        "id": "hqgJPqQtPAqz",
        "outputId": "635a7ae7-0c4b-4ebb-b156-bee4b5a68f46",
        "colab": {
          "base_uri": "https://localhost:8080/"
        }
      },
      "outputs": [
        {
          "output_type": "stream",
          "name": "stdout",
          "text": [
            "[[ 5  6  7  8  9]\n",
            " [ 0  1  2  3  4]\n",
            " [10 11 12 13 14]\n",
            " [15 16 17 18 19]\n",
            " [20 21 22 23 24]]\n"
          ]
        }
      ],
      "source": [
        "A=np.arange(25).reshape(5,5)\n",
        "A[[0,1]]=A[[1,0]]\n",
        "print(A)"
      ]
    },
    {
      "cell_type": "markdown",
      "metadata": {
        "id": "QPPZvonbPAqz"
      },
      "source": [
        "#### 73. Consider a set of 10 triplets describing 10 triangles (with shared vertices), find the set of unique line segments composing all the  triangles (★★★) \n",
        "(**hint**: repeat, np.roll, np.sort, view, np.unique)"
      ]
    },
    {
      "cell_type": "code",
      "execution_count": 4,
      "metadata": {
        "id": "4XGyvjWyPAqz",
        "outputId": "fdb90672-9a8c-46f4-d9a7-d8752305b44d",
        "colab": {
          "base_uri": "https://localhost:8080/"
        }
      },
      "outputs": [
        {
          "output_type": "stream",
          "name": "stdout",
          "text": [
            "[( 1, 54) ( 1, 58) ( 1, 79) ( 1, 95) ( 4, 97) ( 4, 98) ( 5, 15) ( 5, 33)\n",
            " ( 5, 77) ( 5, 99) (10, 76) (10, 97) (15, 99) (20, 32) (20, 36) (24, 55)\n",
            " (24, 62) (28, 90) (28, 96) (31, 83) (31, 84) (32, 36) (33, 77) (54, 95)\n",
            " (55, 62) (58, 79) (76, 97) (83, 84) (90, 96) (97, 98)]\n"
          ]
        }
      ],
      "source": [
        "faces = np.random.randint(0,100,(10,3))\n",
        "F = np.roll(faces.repeat(2,axis=1),-1,axis=1)\n",
        "F = F.reshape(len(F)*3,2)\n",
        "F = np.sort(F,axis=1)\n",
        "G = F.view( dtype=[('p0',F.dtype),('p1',F.dtype)] )\n",
        "G = np.unique(G)\n",
        "print(G)"
      ]
    },
    {
      "cell_type": "markdown",
      "metadata": {
        "id": "lwwqHlerPAqz"
      },
      "source": [
        "#### 74. Given an array C that is a bincount, how to produce an array A such that np.bincount(A) == C? (★★★) \n",
        "(**hint**: np.repeat)"
      ]
    },
    {
      "cell_type": "code",
      "execution_count": 5,
      "metadata": {
        "id": "3ma0kxPJPAqz",
        "outputId": "732814a3-0b79-4fa8-b540-ef2458ec7f99",
        "colab": {
          "base_uri": "https://localhost:8080/"
        }
      },
      "outputs": [
        {
          "output_type": "stream",
          "name": "stdout",
          "text": [
            "[1 1 2 3 4 5 6]\n"
          ]
        }
      ],
      "source": [
        "C=np.bincount([1,1,2,3,4,5,6,])\n",
        "A=np.repeat(np.arange(len(C)),C)\n",
        "print(A)"
      ]
    },
    {
      "cell_type": "markdown",
      "metadata": {
        "id": "9Eb4Z1OqPAqz"
      },
      "source": [
        "#### 75. How to compute averages using a sliding window over an array? (★★★) \n",
        "(**hint**: np.cumsum)"
      ]
    },
    {
      "cell_type": "code",
      "execution_count": 6,
      "metadata": {
        "id": "YqglSnD5PAq3",
        "outputId": "1a298fbd-f981-4224-bbfb-9e78fa0e41e2",
        "colab": {
          "base_uri": "https://localhost:8080/"
        }
      },
      "outputs": [
        {
          "output_type": "stream",
          "name": "stdout",
          "text": [
            "[ 1.  2.  3.  4.  5.  6.  7.  8.  9. 10. 11. 12. 13. 14. 15. 16. 17. 18.]\n",
            "[ 1.  2.  3.  4.  5.  6.  7.  8.  9. 10. 11. 12. 13. 14. 15. 16. 17. 18.]\n"
          ]
        }
      ],
      "source": [
        "def moving_average(a, n=3) :\n",
        "    ret = np.cumsum(a, dtype=float)\n",
        "    ret[n:] = ret[n:] - ret[:-n]\n",
        "    return ret[n - 1:] / n\n",
        "Z = np.arange(20)\n",
        "print(moving_average(Z, n=3))\n",
        "\n",
        "from numpy.lib.stride_tricks import sliding_window_view\n",
        "\n",
        "Z = np.arange(20)\n",
        "print(sliding_window_view(Z, window_shape=3).mean(axis=-1))"
      ]
    },
    {
      "cell_type": "markdown",
      "metadata": {
        "id": "GHoJwLL3PAq3"
      },
      "source": [
        "#### 76. Consider a one-dimensional array Z, build a two-dimensional array whose first row is (Z\\[0\\],Z\\[1\\],Z\\[2\\]) and each subsequent row is  shifted by 1 (last row should be (Z\\[-3\\],Z\\[-2\\],Z\\[-1\\]) (★★★) \n",
        "(**hint**: from numpy.lib import stride_tricks)"
      ]
    },
    {
      "cell_type": "code",
      "execution_count": 7,
      "metadata": {
        "id": "qPXy5Em1PAq3",
        "outputId": "1a587adc-2be3-4853-c3d9-23d546e326db",
        "colab": {
          "base_uri": "https://localhost:8080/"
        }
      },
      "outputs": [
        {
          "output_type": "stream",
          "name": "stdout",
          "text": [
            "[[0 1 2]\n",
            " [1 2 3]\n",
            " [2 3 4]\n",
            " [3 4 5]\n",
            " [4 5 6]\n",
            " [5 6 7]\n",
            " [6 7 8]\n",
            " [7 8 9]]\n",
            "[[0 1 2]\n",
            " [1 2 3]\n",
            " [2 3 4]\n",
            " [3 4 5]\n",
            " [4 5 6]\n",
            " [5 6 7]\n",
            " [6 7 8]\n",
            " [7 8 9]]\n"
          ]
        }
      ],
      "source": [
        "from numpy.lib import stride_tricks\n",
        "\n",
        "def rolling(a, window):\n",
        "    shape = (a.size - window + 1, window)\n",
        "    strides = (a.strides[0], a.strides[0])\n",
        "    return stride_tricks.as_strided(a, shape=shape, strides=strides)\n",
        "Z = rolling(np.arange(10), 3)\n",
        "print(Z)\n",
        "\n",
        "Z = np.arange(10)\n",
        "print(sliding_window_view(Z, window_shape=3))"
      ]
    },
    {
      "cell_type": "markdown",
      "metadata": {
        "id": "jeWwrTicPAq3"
      },
      "source": [
        "#### 77. How to negate a boolean, or to change the sign of a float inplace? (★★★) \n",
        "(**hint**: np.logical_not, np.negative)"
      ]
    },
    {
      "cell_type": "code",
      "execution_count": 9,
      "metadata": {
        "id": "LmuyaNW1PAq3",
        "outputId": "15ae566e-04e3-433a-b685-1c70fcef10bb",
        "colab": {
          "base_uri": "https://localhost:8080/"
        }
      },
      "outputs": [
        {
          "output_type": "execute_result",
          "data": {
            "text/plain": [
              "array([-0.13614381,  0.04250954,  0.31495739, -0.63477312, -0.54729024,\n",
              "        0.38780754, -0.07319948,  0.85969685,  0.52892098, -0.52325192,\n",
              "       -0.82852768, -0.3141815 , -0.91214084, -0.12776144,  0.43322399,\n",
              "       -0.61564409, -0.28446677, -0.05578457, -0.3996344 , -0.50815104,\n",
              "        0.32558779, -0.81612777, -0.14628256,  0.90179099, -0.77929407,\n",
              "       -0.28763563,  0.5638387 , -0.63181408,  0.30395232,  0.1291865 ,\n",
              "       -0.6750645 , -0.78726454,  0.62595804,  0.86136219,  0.53306855,\n",
              "        0.77717398,  0.76029165,  0.93629851,  0.30221043, -0.54343592,\n",
              "        0.60934636, -0.43024756,  0.94694677,  0.69764305, -0.27168462,\n",
              "       -0.43136044,  0.74006983,  0.09715434, -0.0443938 ,  0.66680355,\n",
              "        0.97287322, -0.1242043 ,  0.88321365, -0.68108222,  0.36793801,\n",
              "       -0.59099971, -0.1352144 , -0.4597476 ,  0.10350073,  0.30929497,\n",
              "       -0.88981221,  0.27938798, -0.32969959,  0.52455953, -0.99908444,\n",
              "        0.058503  , -0.99370715, -0.39979224,  0.78403914,  0.38763677,\n",
              "        0.02189561,  0.94417109, -0.66016011, -0.31687031,  0.72476271,\n",
              "        0.71311376,  0.98592018,  0.62314688,  0.54120388, -0.99647269,\n",
              "       -0.99264242, -0.8012287 ,  0.70241464,  0.91484712,  0.72470231,\n",
              "       -0.10461381, -0.14660889,  0.0898485 ,  0.99754444, -0.56113387,\n",
              "        0.34086995,  0.3940262 , -0.22626624, -0.97749745,  0.70966305,\n",
              "       -0.67182407, -0.69886228,  0.1735521 , -0.34790013,  0.75116665])"
            ]
          },
          "metadata": {},
          "execution_count": 9
        }
      ],
      "source": [
        "Z = np.random.randint(0,2,100)\n",
        "np.logical_not(Z, out=Z)\n",
        "Z = np.random.uniform(-1.0,1.0,100)\n",
        "np.negative(Z, out=Z)"
      ]
    },
    {
      "cell_type": "markdown",
      "metadata": {
        "id": "U1WTXmNLPAq3"
      },
      "source": [
        "#### 78. Consider 2 sets of points P0,P1 describing lines (2d) and a point p, how to compute distance from p to each line i  (P0\\[i\\],P1\\[i\\])? (★★★)"
      ]
    },
    {
      "cell_type": "code",
      "execution_count": 10,
      "metadata": {
        "id": "Wx0GGYT2PAq3",
        "outputId": "4f7e9e83-4ddb-4e04-cd65-c67ca2c7b958",
        "colab": {
          "base_uri": "https://localhost:8080/"
        }
      },
      "outputs": [
        {
          "output_type": "stream",
          "name": "stdout",
          "text": [
            "[ 7.24793852  0.73579062  4.9855377  11.17604469  2.99452371  7.15140993\n",
            "  7.24651152  8.32148644  0.53728729  4.58260737]\n"
          ]
        }
      ],
      "source": [
        "def distance(P0, P1, p):\n",
        "    T = P1 - P0\n",
        "    L = (T**2).sum(axis=1)\n",
        "    U = -((P0[:,0]-p[...,0])*T[:,0] + (P0[:,1]-p[...,1])*T[:,1]) / L\n",
        "    U = U.reshape(len(U),1)\n",
        "    D = P0 + U*T - p\n",
        "    return np.sqrt((D**2).sum(axis=1))\n",
        "\n",
        "P0 = np.random.uniform(-10,10,(10,2))\n",
        "P1 = np.random.uniform(-10,10,(10,2))\n",
        "p  = np.random.uniform(-10,10,( 1,2))\n",
        "print(distance(P0, P1, p))"
      ]
    },
    {
      "cell_type": "markdown",
      "metadata": {
        "id": "d98GGuciPAq3"
      },
      "source": [
        "#### 79. Consider 2 sets of points P0,P1 describing lines (2d) and a set of points P, how to compute distance from each point j (P\\[j\\]) to each line i (P0\\[i\\],P1\\[i\\])? (★★★)"
      ]
    },
    {
      "cell_type": "code",
      "execution_count": 14,
      "metadata": {
        "id": "7TLQOe8wPAq4",
        "outputId": "27d73d80-4910-4d8e-90a9-a18c7675b0ae",
        "colab": {
          "base_uri": "https://localhost:8080/"
        }
      },
      "outputs": [
        {
          "output_type": "stream",
          "name": "stdout",
          "text": [
            "[[ 4.87463035 12.19892172  9.95620331  9.57950616  8.82856342  7.19918657\n",
            "   1.28785513  3.9932748   4.63737504  2.80417219]]\n"
          ]
        }
      ],
      "source": [
        "P0 = np.random.uniform(-10, 10, (10,2))\n",
        "P1 = np.random.uniform(-10, 10,(10,2))\n",
        "P = np.random.uniform(-10,10,(10,2))\n",
        "print(np.array([distance(P0,P1,p_i) for p_i in p]))"
      ]
    },
    {
      "cell_type": "markdown",
      "metadata": {
        "id": "wWDoP-gIPAq4"
      },
      "source": [
        "#### 80. Consider an arbitrary array, write a function that extract a subpart with a fixed shape and centered on a given element (pad with a `fill` value when necessary) (★★★) \n",
        "(**hint**: minimum, maximum)"
      ]
    },
    {
      "cell_type": "code",
      "execution_count": 15,
      "metadata": {
        "id": "kTg6SNhWPAq4",
        "outputId": "611020a8-7059-4443-e277-ad09f2b7ddf8",
        "colab": {
          "base_uri": "https://localhost:8080/"
        }
      },
      "outputs": [
        {
          "output_type": "stream",
          "name": "stdout",
          "text": [
            "[[2 4 8 1 6 9 4 3 7 8]\n",
            " [2 4 0 0 7 8 3 5 8 3]\n",
            " [6 6 7 3 9 0 1 2 7 9]\n",
            " [7 1 1 4 4 5 1 9 6 5]\n",
            " [5 1 2 6 7 3 3 7 7 2]\n",
            " [7 6 1 7 4 7 6 5 9 2]\n",
            " [5 5 5 2 2 9 8 5 5 7]\n",
            " [6 0 2 2 4 9 7 8 6 1]\n",
            " [6 5 6 2 9 6 7 1 9 4]\n",
            " [8 2 1 1 5 2 7 2 4 6]]\n",
            "[[0 0 0 0 0]\n",
            " [0 2 4 8 1]\n",
            " [0 2 4 0 0]\n",
            " [0 6 6 7 3]\n",
            " [0 7 1 1 4]]\n"
          ]
        },
        {
          "output_type": "stream",
          "name": "stderr",
          "text": [
            "/usr/local/lib/python3.7/dist-packages/ipykernel_launcher.py:23: FutureWarning: Using a non-tuple sequence for multidimensional indexing is deprecated; use `arr[tuple(seq)]` instead of `arr[seq]`. In the future this will be interpreted as an array index, `arr[np.array(seq)]`, which will result either in an error or a different result.\n"
          ]
        }
      ],
      "source": [
        "Z = np.random.randint(0,10,(10,10))\n",
        "shape = (5,5)\n",
        "fill  = 0\n",
        "position = (1,1)\n",
        "\n",
        "R = np.ones(shape, dtype=Z.dtype)*fill\n",
        "P  = np.array(list(position)).astype(int)\n",
        "Rs = np.array(list(R.shape)).astype(int)\n",
        "Zs = np.array(list(Z.shape)).astype(int)\n",
        "\n",
        "R_start = np.zeros((len(shape),)).astype(int)\n",
        "R_stop  = np.array(list(shape)).astype(int)\n",
        "Z_start = (P-Rs//2)\n",
        "Z_stop  = (P+Rs//2)+Rs%2\n",
        "\n",
        "R_start = (R_start - np.minimum(Z_start,0)).tolist()\n",
        "Z_start = (np.maximum(Z_start,0)).tolist()\n",
        "R_stop = np.maximum(R_start, (R_stop - np.maximum(Z_stop-Zs,0))).tolist()\n",
        "Z_stop = (np.minimum(Z_stop,Zs)).tolist()\n",
        "\n",
        "r = [slice(start,stop) for start,stop in zip(R_start,R_stop)]\n",
        "z = [slice(start,stop) for start,stop in zip(Z_start,Z_stop)]\n",
        "R[r] = Z[z]\n",
        "print(Z)\n",
        "print(R)"
      ]
    },
    {
      "cell_type": "markdown",
      "metadata": {
        "id": "1EyhAVGcPAq4"
      },
      "source": [
        "#### 81. Consider an array Z = \\[1,2,3,4,5,6,7,8,9,10,11,12,13,14\\], how to generate an array R = \\[\\[1,2,3,4\\], \\[2,3,4,5\\], \\[3,4,5,6\\], ..., \\[11,12,13,14\\]\\]? (★★★) \n",
        "(**hint**: stride\\_tricks.as\\_strided)"
      ]
    },
    {
      "cell_type": "code",
      "execution_count": 34,
      "metadata": {
        "id": "7jxVAHBxPAq5",
        "outputId": "44d3d721-a5f9-4977-d2a4-8e764aceb546",
        "colab": {
          "base_uri": "https://localhost:8080/",
          "height": 408
        }
      },
      "outputs": [
        {
          "output_type": "stream",
          "name": "stdout",
          "text": [
            "[[ 1  2  3  4]\n",
            " [ 2  3  4  5]\n",
            " [ 3  4  5  6]\n",
            " [ 4  5  6  7]\n",
            " [ 5  6  7  8]\n",
            " [ 6  7  8  9]\n",
            " [ 7  8  9 10]\n",
            " [ 8  9 10 11]\n",
            " [ 9 10 11 12]\n",
            " [10 11 12 13]\n",
            " [11 12 13 14]]\n"
          ]
        },
        {
          "output_type": "error",
          "ename": "NameError",
          "evalue": "ignored",
          "traceback": [
            "\u001b[0;31m---------------------------------------------------------------------------\u001b[0m",
            "\u001b[0;31mNameError\u001b[0m                                 Traceback (most recent call last)",
            "\u001b[0;32m<ipython-input-34-faa0c9859c7c>\u001b[0m in \u001b[0;36m<module>\u001b[0;34m\u001b[0m\n\u001b[1;32m      4\u001b[0m \u001b[0mprint\u001b[0m\u001b[0;34m(\u001b[0m\u001b[0mR\u001b[0m\u001b[0;34m)\u001b[0m\u001b[0;34m\u001b[0m\u001b[0;34m\u001b[0m\u001b[0m\n\u001b[1;32m      5\u001b[0m \u001b[0mZ\u001b[0m \u001b[0;34m=\u001b[0m \u001b[0mnp\u001b[0m\u001b[0;34m.\u001b[0m\u001b[0marange\u001b[0m\u001b[0;34m(\u001b[0m\u001b[0;36m1\u001b[0m\u001b[0;34m,\u001b[0m \u001b[0;36m15\u001b[0m\u001b[0;34m,\u001b[0m \u001b[0mdtype\u001b[0m\u001b[0;34m=\u001b[0m\u001b[0mnp\u001b[0m\u001b[0;34m.\u001b[0m\u001b[0muint32\u001b[0m\u001b[0;34m)\u001b[0m\u001b[0;34m\u001b[0m\u001b[0;34m\u001b[0m\u001b[0m\n\u001b[0;32m----> 6\u001b[0;31m \u001b[0mprint\u001b[0m\u001b[0;34m(\u001b[0m\u001b[0msliding_window_view\u001b[0m\u001b[0;34m(\u001b[0m\u001b[0mZ\u001b[0m\u001b[0;34m,\u001b[0m \u001b[0mwindow_shape\u001b[0m\u001b[0;34m=\u001b[0m\u001b[0;36m4\u001b[0m\u001b[0;34m)\u001b[0m\u001b[0;34m)\u001b[0m\u001b[0;34m\u001b[0m\u001b[0;34m\u001b[0m\u001b[0m\n\u001b[0m",
            "\u001b[0;31mNameError\u001b[0m: name 'sliding_window_view' is not defined"
          ]
        }
      ],
      "source": [
        "import numpy as np\n",
        "Z = np.arange(1,15,dtype=np.uint32)\n",
        "R = np.lib.stride_tricks.as_strided(Z,(11,4),(4,4))\n",
        "print(R)\n",
        "Z = np.arange(1, 15, dtype=np.uint32)\n",
        "print(sliding_window_view(Z, window_shape=4))"
      ]
    },
    {
      "cell_type": "markdown",
      "metadata": {
        "id": "XJo4lvEmPAq5"
      },
      "source": [
        "#### 82. Compute a matrix rank (★★★) \n",
        "(**hint**: np.linalg.svd) (suggestion: np.linalg.svd)"
      ]
    },
    {
      "cell_type": "code",
      "execution_count": 9,
      "metadata": {
        "id": "eIesvBe1PAq5",
        "outputId": "285d5294-fb6a-4dcd-fdc0-37d53ea44010",
        "colab": {
          "base_uri": "https://localhost:8080/"
        }
      },
      "outputs": [
        {
          "output_type": "stream",
          "name": "stdout",
          "text": [
            "10\n",
            "10\n"
          ]
        }
      ],
      "source": [
        "Z = np.random.uniform(0,1,(10,10))\n",
        "U, S, V = np.linalg.svd(Z) # Singular Value Decomposition\n",
        "rank = np.sum(S > 1e-10)\n",
        "print(rank)\n",
        "\n",
        "rank = np.linalg.matrix_rank(Z)\n",
        "print(rank)"
      ]
    },
    {
      "cell_type": "markdown",
      "metadata": {
        "id": "kWroaZy5PAq5"
      },
      "source": [
        "#### 83. How to find the most frequent value in an array? \n",
        "(**hint**: np.bincount, argmax)"
      ]
    },
    {
      "cell_type": "code",
      "execution_count": 10,
      "metadata": {
        "id": "WImAwII1PAq5",
        "outputId": "09f2017f-99d4-481f-96e0-2d51017e17c1",
        "colab": {
          "base_uri": "https://localhost:8080/"
        }
      },
      "outputs": [
        {
          "output_type": "stream",
          "name": "stdout",
          "text": [
            "7\n"
          ]
        }
      ],
      "source": [
        "Z = np.random.randint(0,10,50)\n",
        "print(np.bincount(Z).argmax())"
      ]
    },
    {
      "cell_type": "markdown",
      "metadata": {
        "id": "t6X5w_PBPAq6"
      },
      "source": [
        "#### 84. Extract all the contiguous 3x3 blocks from a random 10x10 matrix (★★★) \n",
        "(**hint**: stride\\_tricks.as\\_strided)"
      ]
    },
    {
      "cell_type": "code",
      "execution_count": 17,
      "metadata": {
        "id": "3bKfsmSzPAq6",
        "outputId": "51d00907-82bd-437c-bcee-d482a8a5b9f5",
        "colab": {
          "base_uri": "https://localhost:8080/",
          "height": 1000
        }
      },
      "outputs": [
        {
          "output_type": "stream",
          "name": "stdout",
          "text": [
            "[[[[3 3 1]\n",
            "   [2 2 3]\n",
            "   [0 4 2]]\n",
            "\n",
            "  [[3 1 3]\n",
            "   [2 3 2]\n",
            "   [4 2 3]]\n",
            "\n",
            "  [[1 3 4]\n",
            "   [3 2 1]\n",
            "   [2 3 0]]\n",
            "\n",
            "  [[3 4 3]\n",
            "   [2 1 2]\n",
            "   [3 0 2]]\n",
            "\n",
            "  [[4 3 4]\n",
            "   [1 2 1]\n",
            "   [0 2 1]]\n",
            "\n",
            "  [[3 4 4]\n",
            "   [2 1 3]\n",
            "   [2 1 0]]\n",
            "\n",
            "  [[4 4 3]\n",
            "   [1 3 1]\n",
            "   [1 0 4]]\n",
            "\n",
            "  [[4 3 0]\n",
            "   [3 1 0]\n",
            "   [0 4 2]]]\n",
            "\n",
            "\n",
            " [[[2 2 3]\n",
            "   [0 4 2]\n",
            "   [0 0 0]]\n",
            "\n",
            "  [[2 3 2]\n",
            "   [4 2 3]\n",
            "   [0 0 2]]\n",
            "\n",
            "  [[3 2 1]\n",
            "   [2 3 0]\n",
            "   [0 2 0]]\n",
            "\n",
            "  [[2 1 2]\n",
            "   [3 0 2]\n",
            "   [2 0 0]]\n",
            "\n",
            "  [[1 2 1]\n",
            "   [0 2 1]\n",
            "   [0 0 0]]\n",
            "\n",
            "  [[2 1 3]\n",
            "   [2 1 0]\n",
            "   [0 0 3]]\n",
            "\n",
            "  [[1 3 1]\n",
            "   [1 0 4]\n",
            "   [0 3 3]]\n",
            "\n",
            "  [[3 1 0]\n",
            "   [0 4 2]\n",
            "   [3 3 4]]]\n",
            "\n",
            "\n",
            " [[[0 4 2]\n",
            "   [0 0 0]\n",
            "   [0 3 4]]\n",
            "\n",
            "  [[4 2 3]\n",
            "   [0 0 2]\n",
            "   [3 4 2]]\n",
            "\n",
            "  [[2 3 0]\n",
            "   [0 2 0]\n",
            "   [4 2 4]]\n",
            "\n",
            "  [[3 0 2]\n",
            "   [2 0 0]\n",
            "   [2 4 2]]\n",
            "\n",
            "  [[0 2 1]\n",
            "   [0 0 0]\n",
            "   [4 2 1]]\n",
            "\n",
            "  [[2 1 0]\n",
            "   [0 0 3]\n",
            "   [2 1 3]]\n",
            "\n",
            "  [[1 0 4]\n",
            "   [0 3 3]\n",
            "   [1 3 1]]\n",
            "\n",
            "  [[0 4 2]\n",
            "   [3 3 4]\n",
            "   [3 1 0]]]\n",
            "\n",
            "\n",
            " [[[0 0 0]\n",
            "   [0 3 4]\n",
            "   [4 2 4]]\n",
            "\n",
            "  [[0 0 2]\n",
            "   [3 4 2]\n",
            "   [2 4 0]]\n",
            "\n",
            "  [[0 2 0]\n",
            "   [4 2 4]\n",
            "   [4 0 3]]\n",
            "\n",
            "  [[2 0 0]\n",
            "   [2 4 2]\n",
            "   [0 3 2]]\n",
            "\n",
            "  [[0 0 0]\n",
            "   [4 2 1]\n",
            "   [3 2 4]]\n",
            "\n",
            "  [[0 0 3]\n",
            "   [2 1 3]\n",
            "   [2 4 2]]\n",
            "\n",
            "  [[0 3 3]\n",
            "   [1 3 1]\n",
            "   [4 2 3]]\n",
            "\n",
            "  [[3 3 4]\n",
            "   [3 1 0]\n",
            "   [2 3 1]]]\n",
            "\n",
            "\n",
            " [[[0 3 4]\n",
            "   [4 2 4]\n",
            "   [4 4 0]]\n",
            "\n",
            "  [[3 4 2]\n",
            "   [2 4 0]\n",
            "   [4 0 1]]\n",
            "\n",
            "  [[4 2 4]\n",
            "   [4 0 3]\n",
            "   [0 1 0]]\n",
            "\n",
            "  [[2 4 2]\n",
            "   [0 3 2]\n",
            "   [1 0 1]]\n",
            "\n",
            "  [[4 2 1]\n",
            "   [3 2 4]\n",
            "   [0 1 0]]\n",
            "\n",
            "  [[2 1 3]\n",
            "   [2 4 2]\n",
            "   [1 0 3]]\n",
            "\n",
            "  [[1 3 1]\n",
            "   [4 2 3]\n",
            "   [0 3 0]]\n",
            "\n",
            "  [[3 1 0]\n",
            "   [2 3 1]\n",
            "   [3 0 2]]]\n",
            "\n",
            "\n",
            " [[[4 2 4]\n",
            "   [4 4 0]\n",
            "   [0 4 1]]\n",
            "\n",
            "  [[2 4 0]\n",
            "   [4 0 1]\n",
            "   [4 1 1]]\n",
            "\n",
            "  [[4 0 3]\n",
            "   [0 1 0]\n",
            "   [1 1 4]]\n",
            "\n",
            "  [[0 3 2]\n",
            "   [1 0 1]\n",
            "   [1 4 0]]\n",
            "\n",
            "  [[3 2 4]\n",
            "   [0 1 0]\n",
            "   [4 0 3]]\n",
            "\n",
            "  [[2 4 2]\n",
            "   [1 0 3]\n",
            "   [0 3 4]]\n",
            "\n",
            "  [[4 2 3]\n",
            "   [0 3 0]\n",
            "   [3 4 2]]\n",
            "\n",
            "  [[2 3 1]\n",
            "   [3 0 2]\n",
            "   [4 2 4]]]\n",
            "\n",
            "\n",
            " [[[4 4 0]\n",
            "   [0 4 1]\n",
            "   [1 4 1]]\n",
            "\n",
            "  [[4 0 1]\n",
            "   [4 1 1]\n",
            "   [4 1 3]]\n",
            "\n",
            "  [[0 1 0]\n",
            "   [1 1 4]\n",
            "   [1 3 3]]\n",
            "\n",
            "  [[1 0 1]\n",
            "   [1 4 0]\n",
            "   [3 3 2]]\n",
            "\n",
            "  [[0 1 0]\n",
            "   [4 0 3]\n",
            "   [3 2 0]]\n",
            "\n",
            "  [[1 0 3]\n",
            "   [0 3 4]\n",
            "   [2 0 1]]\n",
            "\n",
            "  [[0 3 0]\n",
            "   [3 4 2]\n",
            "   [0 1 1]]\n",
            "\n",
            "  [[3 0 2]\n",
            "   [4 2 4]\n",
            "   [1 1 2]]]\n",
            "\n",
            "\n",
            " [[[0 4 1]\n",
            "   [1 4 1]\n",
            "   [3 0 1]]\n",
            "\n",
            "  [[4 1 1]\n",
            "   [4 1 3]\n",
            "   [0 1 1]]\n",
            "\n",
            "  [[1 1 4]\n",
            "   [1 3 3]\n",
            "   [1 1 4]]\n",
            "\n",
            "  [[1 4 0]\n",
            "   [3 3 2]\n",
            "   [1 4 4]]\n",
            "\n",
            "  [[4 0 3]\n",
            "   [3 2 0]\n",
            "   [4 4 1]]\n",
            "\n",
            "  [[0 3 4]\n",
            "   [2 0 1]\n",
            "   [4 1 3]]\n",
            "\n",
            "  [[3 4 2]\n",
            "   [0 1 1]\n",
            "   [1 3 1]]\n",
            "\n",
            "  [[4 2 4]\n",
            "   [1 1 2]\n",
            "   [3 1 4]]]]\n"
          ]
        },
        {
          "output_type": "error",
          "ename": "NameError",
          "evalue": "ignored",
          "traceback": [
            "\u001b[0;31m---------------------------------------------------------------------------\u001b[0m",
            "\u001b[0;31mNameError\u001b[0m                                 Traceback (most recent call last)",
            "\u001b[0;32m<ipython-input-17-3081925ae640>\u001b[0m in \u001b[0;36m<module>\u001b[0;34m\u001b[0m\n\u001b[1;32m      8\u001b[0m \u001b[0mprint\u001b[0m\u001b[0;34m(\u001b[0m\u001b[0mC\u001b[0m\u001b[0;34m)\u001b[0m\u001b[0;34m\u001b[0m\u001b[0;34m\u001b[0m\u001b[0m\n\u001b[1;32m      9\u001b[0m \u001b[0mZ\u001b[0m \u001b[0;34m=\u001b[0m \u001b[0mnp\u001b[0m\u001b[0;34m.\u001b[0m\u001b[0mrandom\u001b[0m\u001b[0;34m.\u001b[0m\u001b[0mrandint\u001b[0m\u001b[0;34m(\u001b[0m\u001b[0;36m0\u001b[0m\u001b[0;34m,\u001b[0m\u001b[0;36m5\u001b[0m\u001b[0;34m,\u001b[0m\u001b[0;34m(\u001b[0m\u001b[0;36m10\u001b[0m\u001b[0;34m,\u001b[0m\u001b[0;36m10\u001b[0m\u001b[0;34m)\u001b[0m\u001b[0;34m)\u001b[0m\u001b[0;34m\u001b[0m\u001b[0;34m\u001b[0m\u001b[0m\n\u001b[0;32m---> 10\u001b[0;31m \u001b[0mprint\u001b[0m\u001b[0;34m(\u001b[0m\u001b[0msliding_window_view\u001b[0m\u001b[0;34m(\u001b[0m\u001b[0mZ\u001b[0m\u001b[0;34m,\u001b[0m \u001b[0mwindow_shape\u001b[0m\u001b[0;34m=\u001b[0m\u001b[0;34m(\u001b[0m\u001b[0;36m3\u001b[0m\u001b[0;34m,\u001b[0m \u001b[0;36m3\u001b[0m\u001b[0;34m)\u001b[0m\u001b[0;34m)\u001b[0m\u001b[0;34m)\u001b[0m\u001b[0;34m\u001b[0m\u001b[0;34m\u001b[0m\u001b[0m\n\u001b[0m",
            "\u001b[0;31mNameError\u001b[0m: name 'sliding_window_view' is not defined"
          ]
        }
      ],
      "source": [
        "import sys\n",
        "import numpy as np\n",
        "Z = np.random.randint(0,5,(10,10))\n",
        "n = 3\n",
        "i = 1 + (Z.shape[0]-3)\n",
        "j = 1 + (Z.shape[1]-3)\n",
        "C =np.lib. stride_tricks.as_strided(Z, shape=(i, j, n, n), strides=Z.strides + Z.strides)\n",
        "print(C)\n",
        "Z = np.random.randint(0,5,(10,10))\n",
        "print(sliding_window_view(Z, window_shape=(3, 3)))"
      ]
    },
    {
      "cell_type": "markdown",
      "metadata": {
        "id": "uAHlnNZ-PAq6"
      },
      "source": [
        "#### 85. Create a 2D array subclass such that Z\\[i,j\\] == Z\\[j,i\\] (★★★) \n",
        "(**hint**: class method)"
      ]
    },
    {
      "cell_type": "code",
      "execution_count": 22,
      "metadata": {
        "id": "x3n-QTvePAq6",
        "outputId": "9f634849-c665-4127-de0b-6c3905d5304a",
        "colab": {
          "base_uri": "https://localhost:8080/"
        }
      },
      "outputs": [
        {
          "output_type": "stream",
          "name": "stdout",
          "text": [
            "[[ 6  8 12 11  4]\n",
            " [ 8  6  7  7  0]\n",
            " [12  7  7 42  3]\n",
            " [11  7 42  6 12]\n",
            " [ 4  0  3 12  1]]\n"
          ]
        }
      ],
      "source": [
        "class Symetric(np.ndarray):\n",
        "    def __setitem__(self, index, value):\n",
        "        i,j = index\n",
        "        super(Symetric, self).__setitem__((i,j), value)\n",
        "        super(Symetric, self).__setitem__((j,i), value)\n",
        "\n",
        "def symetric(Z):\n",
        "    return np.asarray(Z + Z.T - np.diag(Z.diagonal())).view(Symetric)\n",
        "\n",
        "S = symetric(np.random.randint(0,10,(5,5)))\n",
        "S[2,3] = 42\n",
        "print(S)"
      ]
    },
    {
      "cell_type": "markdown",
      "metadata": {
        "id": "GHfI331_PAq6"
      },
      "source": [
        "#### 86. Consider a set of p matrices wich shape (n,n) and a set of p vectors with shape (n,1). How to compute the sum of of the p matrix products at once? (result has shape (n,1)) (★★★) \n",
        "(**hint**: np.tensordot)"
      ]
    },
    {
      "cell_type": "code",
      "execution_count": 30,
      "metadata": {
        "id": "KCVOgqy9PAq7",
        "outputId": "b6876354-120d-4107-b9ec-1fe2254fbd0a",
        "colab": {
          "base_uri": "https://localhost:8080/"
        }
      },
      "outputs": [
        {
          "output_type": "stream",
          "name": "stdout",
          "text": [
            "[[200.]\n",
            " [200.]\n",
            " [200.]\n",
            " [200.]\n",
            " [200.]\n",
            " [200.]\n",
            " [200.]\n",
            " [200.]\n",
            " [200.]\n",
            " [200.]\n",
            " [200.]\n",
            " [200.]\n",
            " [200.]\n",
            " [200.]\n",
            " [200.]\n",
            " [200.]\n",
            " [200.]\n",
            " [200.]\n",
            " [200.]\n",
            " [200.]]\n"
          ]
        }
      ],
      "source": [
        "p, n = 10, 20\n",
        "M = np.ones((p,n,n))\n",
        "V = np.ones((p,n,1))\n",
        "S = np.tensordot(M, V, axes=[[0, 2], [0, 1]])\n",
        "print(S)"
      ]
    },
    {
      "cell_type": "markdown",
      "metadata": {
        "id": "VbyEP6q6PAq7"
      },
      "source": [
        "#### 87. Consider a 16x16 array, how to get the block-sum (block size is 4x4)? (★★★) \n",
        "(**hint**: np.add.reduceat)"
      ]
    },
    {
      "cell_type": "code",
      "execution_count": 50,
      "metadata": {
        "id": "2Ik5j16iPAq7",
        "outputId": "66d3b47d-e98d-4f9a-a0ca-2b279f166818",
        "colab": {
          "base_uri": "https://localhost:8080/",
          "height": 280
        }
      },
      "outputs": [
        {
          "output_type": "stream",
          "name": "stdout",
          "text": [
            "[[16. 16. 16. 16.]\n",
            " [16. 16. 16. 16.]\n",
            " [16. 16. 16. 16.]\n",
            " [16. 16. 16. 16.]]\n"
          ]
        },
        {
          "output_type": "error",
          "ename": "NameError",
          "evalue": "ignored",
          "traceback": [
            "\u001b[0;31m---------------------------------------------------------------------------\u001b[0m",
            "\u001b[0;31mNameError\u001b[0m                                 Traceback (most recent call last)",
            "\u001b[0;32m<ipython-input-50-d23d3a4647d9>\u001b[0m in \u001b[0;36m<module>\u001b[0;34m\u001b[0m\n\u001b[1;32m     10\u001b[0m \u001b[0mZ\u001b[0m \u001b[0;34m=\u001b[0m \u001b[0mnp\u001b[0m\u001b[0;34m.\u001b[0m\u001b[0mones\u001b[0m\u001b[0;34m(\u001b[0m\u001b[0;34m(\u001b[0m\u001b[0;36m16\u001b[0m\u001b[0;34m,\u001b[0m \u001b[0;36m16\u001b[0m\u001b[0;34m)\u001b[0m\u001b[0;34m)\u001b[0m\u001b[0;34m\u001b[0m\u001b[0;34m\u001b[0m\u001b[0m\n\u001b[1;32m     11\u001b[0m \u001b[0mk\u001b[0m \u001b[0;34m=\u001b[0m \u001b[0;36m4\u001b[0m\u001b[0;34m\u001b[0m\u001b[0;34m\u001b[0m\u001b[0m\n\u001b[0;32m---> 12\u001b[0;31m \u001b[0mprint\u001b[0m\u001b[0;34m(\u001b[0m\u001b[0msliding_window_view\u001b[0m\u001b[0;34m(\u001b[0m\u001b[0mZ\u001b[0m\u001b[0;34m,\u001b[0m \u001b[0mwindow_shape\u001b[0m\u001b[0;34m=\u001b[0m\u001b[0;34m(\u001b[0m\u001b[0mk\u001b[0m\u001b[0;34m,\u001b[0m \u001b[0mk\u001b[0m\u001b[0;34m)\u001b[0m\u001b[0;34m)\u001b[0m\u001b[0;34m[\u001b[0m\u001b[0;34m:\u001b[0m\u001b[0;34m:\u001b[0m\u001b[0mk\u001b[0m\u001b[0;34m,\u001b[0m \u001b[0;34m:\u001b[0m\u001b[0;34m:\u001b[0m\u001b[0mk\u001b[0m\u001b[0;34m]\u001b[0m\u001b[0;34m.\u001b[0m\u001b[0msum\u001b[0m\u001b[0;34m(\u001b[0m\u001b[0maxis\u001b[0m\u001b[0;34m=\u001b[0m\u001b[0;34m(\u001b[0m\u001b[0;34m-\u001b[0m\u001b[0;36m2\u001b[0m\u001b[0;34m,\u001b[0m \u001b[0;34m-\u001b[0m\u001b[0;36m1\u001b[0m\u001b[0;34m)\u001b[0m\u001b[0;34m)\u001b[0m\u001b[0;34m)\u001b[0m\u001b[0;34m\u001b[0m\u001b[0;34m\u001b[0m\u001b[0m\n\u001b[0m",
            "\u001b[0;31mNameError\u001b[0m: name 'sliding_window_view' is not defined"
          ]
        }
      ],
      "source": [
        "Z = np.ones((16,16))\n",
        "k = 4\n",
        "S = np.add.reduceat(np.add.reduceat(Z, np.arange(0, Z.shape[0], k), axis=0),\n",
        "                                       np.arange(0, Z.shape[1], k), axis=1)\n",
        "print(S)\n",
        "Z = np.ones((16,16))\n",
        "k = 4\n",
        "windows = np.lib.stride_tricks.sliding_window_view(Z, (k, k))\n",
        "S = windows[::k, ::k, ...].sum(axis=(-2, -1))\n",
        "Z = np.ones((16, 16))\n",
        "k = 4\n",
        "print(sliding_window_view(Z, window_shape=(k, k))[::k, ::k].sum(axis=(-2, -1)))"
      ]
    },
    {
      "cell_type": "markdown",
      "metadata": {
        "id": "3jeV51dKPAq7"
      },
      "source": [
        "#### 88. How to implement the Game of Life using numpy arrays? (★★★)"
      ]
    },
    {
      "cell_type": "code",
      "execution_count": 35,
      "metadata": {
        "id": "3jRAAIwiPAq7",
        "outputId": "1fc8646c-1870-4d04-c0ba-62fc9cdf9404",
        "colab": {
          "base_uri": "https://localhost:8080/"
        }
      },
      "outputs": [
        {
          "output_type": "stream",
          "name": "stdout",
          "text": [
            "[[0 0 0 ... 0 0 0]\n",
            " [0 0 0 ... 0 0 0]\n",
            " [0 0 0 ... 0 0 0]\n",
            " ...\n",
            " [0 0 0 ... 0 0 0]\n",
            " [0 0 0 ... 0 0 0]\n",
            " [0 0 0 ... 0 0 0]]\n"
          ]
        }
      ],
      "source": [
        "def iterate(Z):\n",
        "    # Count neighbours\n",
        "    N = (Z[0:-2,0:-2] + Z[0:-2,1:-1] + Z[0:-2,2:] +\n",
        "         Z[1:-1,0:-2]                + Z[1:-1,2:] +\n",
        "         Z[2:  ,0:-2] + Z[2:  ,1:-1] + Z[2:  ,2:])\n",
        "\n",
        "    # Apply rules\n",
        "    birth = (N==3) & (Z[1:-1,1:-1]==0)\n",
        "    survive = ((N==2) | (N==3)) & (Z[1:-1,1:-1]==1)\n",
        "    Z[...] = 0\n",
        "    Z[1:-1,1:-1][birth | survive] = 1\n",
        "    return Z\n",
        "\n",
        "Z = np.random.randint(0,2,(50,50))\n",
        "for i in range(100): Z = iterate(Z)\n",
        "print(Z)"
      ]
    },
    {
      "cell_type": "markdown",
      "metadata": {
        "id": "F1lKfzQvPAq7"
      },
      "source": [
        "#### 89. How to get the n largest values of an array (★★★) \n",
        "(**hint**: np.argsort | np.argpartition)"
      ]
    },
    {
      "cell_type": "code",
      "execution_count": 36,
      "metadata": {
        "id": "vCfhXCApPAq7",
        "outputId": "298a39c1-28f8-4a01-cc42-b629d3ad3224",
        "colab": {
          "base_uri": "https://localhost:8080/"
        }
      },
      "outputs": [
        {
          "output_type": "stream",
          "name": "stdout",
          "text": [
            "[9995 9996 9997 9998 9999]\n",
            "[9998 9997 9999 9996 9995]\n"
          ]
        }
      ],
      "source": [
        "Z = np.arange(10000)\n",
        "np.random.shuffle(Z)\n",
        "n = 5\n",
        "\n",
        "# Slow\n",
        "print (Z[np.argsort(Z)[-n:]])\n",
        "\n",
        "# Fast\n",
        "print (Z[np.argpartition(-Z,n)[:n]])"
      ]
    },
    {
      "cell_type": "markdown",
      "metadata": {
        "id": "wc8MO1MUPAq8"
      },
      "source": [
        "#### 90. Given an arbitrary number of vectors, build the cartesian product (every combinations of every item) (★★★) \n",
        "(**hint**: np.indices)"
      ]
    },
    {
      "cell_type": "code",
      "execution_count": 37,
      "metadata": {
        "scrolled": true,
        "id": "8otrOyt2PAq8"
      },
      "outputs": [],
      "source": [
        "def cartesian(arrays):\n",
        "    arrays = [np.asarray(a) for a in arrays]\n",
        "    shape = (len(x) for x in arrays)\n",
        "\n",
        "    ix = np.indices(shape, dtype=int)\n",
        "    ix = ix.reshape(len(arrays), -1).T\n",
        "\n",
        "    for n, arr in enumerate(arrays):\n",
        "        ix[:, n] = arrays[n][ix[:, n]]\n",
        "\n",
        "    return ix"
      ]
    },
    {
      "cell_type": "markdown",
      "metadata": {
        "id": "tz9CvicFPAq8"
      },
      "source": [
        "#### 91. How to create a record array from a regular array? (★★★) \n",
        "(**hint**: np.core.records.fromarrays)"
      ]
    },
    {
      "cell_type": "code",
      "execution_count": 38,
      "metadata": {
        "id": "1ym_sPtvPAq8",
        "outputId": "8ebb9f18-e83b-433b-abba-f00a7bfab300",
        "colab": {
          "base_uri": "https://localhost:8080/"
        }
      },
      "outputs": [
        {
          "output_type": "stream",
          "name": "stdout",
          "text": [
            "[(b'Hello', 2.5, 3) (b'World', 3.6, 2)]\n"
          ]
        }
      ],
      "source": [
        "Z = np.array([(\"Hello\", 2.5, 3),\n",
        "              (\"World\", 3.6, 2)])\n",
        "R = np.core.records.fromarrays(Z.T,\n",
        "                               names='col1, col2, col3',\n",
        "                               formats = 'S8, f8, i8')\n",
        "print(R)"
      ]
    },
    {
      "cell_type": "markdown",
      "metadata": {
        "id": "41Lqv8PCPAq8"
      },
      "source": [
        "#### 92. Consider a large vector Z, compute Z to the power of 3 using 3 different methods (★★★) \n",
        "(**hint**: np.power, \\*, np.einsum)"
      ]
    },
    {
      "cell_type": "code",
      "execution_count": 39,
      "metadata": {
        "id": "53_TwTxsPAq9",
        "outputId": "3cec9d8b-1ca6-4700-c02e-5872442d6dbe",
        "colab": {
          "base_uri": "https://localhost:8080/"
        }
      },
      "outputs": [
        {
          "output_type": "stream",
          "name": "stdout",
          "text": [
            "3.79 s ± 17.5 ms per loop (mean ± std. dev. of 7 runs, 1 loop each)\n",
            "138 ms ± 2.23 ms per loop (mean ± std. dev. of 7 runs, 10 loops each)\n",
            "149 ms ± 15.7 ms per loop (mean ± std. dev. of 7 runs, 10 loops each)\n"
          ]
        }
      ],
      "source": [
        "x = np.random.rand(int(5e7))\n",
        "\n",
        "%timeit np.power(x,3)\n",
        "%timeit x*x*x\n",
        "%timeit np.einsum('i,i,i->i',x,x,x)"
      ]
    },
    {
      "cell_type": "markdown",
      "metadata": {
        "id": "Moh1pBg7PAq9"
      },
      "source": [
        "#### 93. Consider two arrays A and B of shape (8,3) and (2,2). How to find rows of A that contain elements of each row of B regardless of the order of the elements in B? (★★★) \n",
        "(**hint**: np.where)"
      ]
    },
    {
      "cell_type": "code",
      "execution_count": 40,
      "metadata": {
        "id": "VO0xM0dyPAq9",
        "outputId": "cdd07953-6862-49f4-ebdd-93b33d759d06",
        "colab": {
          "base_uri": "https://localhost:8080/"
        }
      },
      "outputs": [
        {
          "output_type": "stream",
          "name": "stdout",
          "text": [
            "[0 1 2 6]\n"
          ]
        }
      ],
      "source": [
        "A = np.random.randint(0,5,(8,3))\n",
        "B = np.random.randint(0,5,(2,2))\n",
        "\n",
        "C = (A[..., np.newaxis, np.newaxis] == B)\n",
        "rows = np.where(C.any((3,1)).all(1))[0]\n",
        "print(rows)"
      ]
    },
    {
      "cell_type": "markdown",
      "metadata": {
        "id": "Sd7tiHKLPAq9"
      },
      "source": [
        "#### 94. Considering a 10x3 matrix, extract rows with unequal values (e.g. \\[2,2,3\\]) (★★★)"
      ]
    },
    {
      "cell_type": "code",
      "execution_count": 42,
      "metadata": {
        "id": "felrCHRUPAq9",
        "outputId": "2ae2180b-f4f4-4377-a556-9511a64731c2",
        "colab": {
          "base_uri": "https://localhost:8080/"
        }
      },
      "outputs": [
        {
          "output_type": "stream",
          "name": "stdout",
          "text": [
            "[[2 4 1]\n",
            " [3 0 4]\n",
            " [0 4 2]\n",
            " [3 3 3]\n",
            " [1 3 3]\n",
            " [4 1 2]\n",
            " [3 4 2]\n",
            " [2 1 4]\n",
            " [1 1 4]\n",
            " [3 0 1]]\n",
            "[[2 4 1]\n",
            " [3 0 4]\n",
            " [0 4 2]\n",
            " [1 3 3]\n",
            " [4 1 2]\n",
            " [3 4 2]\n",
            " [2 1 4]\n",
            " [1 1 4]\n",
            " [3 0 1]]\n",
            "[[2 4 1]\n",
            " [3 0 4]\n",
            " [0 4 2]\n",
            " [1 3 3]\n",
            " [4 1 2]\n",
            " [3 4 2]\n",
            " [2 1 4]\n",
            " [1 1 4]\n",
            " [3 0 1]]\n"
          ]
        }
      ],
      "source": [
        "Z = np.random.randint(0,5,(10,3))\n",
        "print(Z)\n",
        "\n",
        "E = np.all(Z[:,1:] == Z[:,:-1], axis=1)\n",
        "U = Z[~E]\n",
        "print(U)\n",
        "\n",
        "U = Z[Z.max(axis=1) != Z.min(axis=1),:]\n",
        "print(U)"
      ]
    },
    {
      "cell_type": "markdown",
      "metadata": {
        "id": "wt4Pc84lPAq-"
      },
      "source": [
        "#### 95. Convert a vector of ints into a matrix binary representation (★★★) \n",
        "(**hint**: np.unpackbits)"
      ]
    },
    {
      "cell_type": "code",
      "execution_count": 43,
      "metadata": {
        "id": "64qaGVk_PAq-",
        "outputId": "fec27a4b-85c4-4d1d-d625-234f75ab88fa",
        "colab": {
          "base_uri": "https://localhost:8080/"
        }
      },
      "outputs": [
        {
          "output_type": "stream",
          "name": "stdout",
          "text": [
            "[[0 0 0 0 0 0 0 0]\n",
            " [0 0 0 0 0 0 0 1]\n",
            " [0 0 0 0 0 0 1 0]\n",
            " [0 0 0 0 0 0 1 1]\n",
            " [0 0 0 0 1 1 1 1]\n",
            " [0 0 0 1 0 0 0 0]\n",
            " [0 0 1 0 0 0 0 0]\n",
            " [0 1 0 0 0 0 0 0]\n",
            " [1 0 0 0 0 0 0 0]]\n",
            "[[0 0 0 0 0 0 0 0]\n",
            " [0 0 0 0 0 0 0 1]\n",
            " [0 0 0 0 0 0 1 0]\n",
            " [0 0 0 0 0 0 1 1]\n",
            " [0 0 0 0 1 1 1 1]\n",
            " [0 0 0 1 0 0 0 0]\n",
            " [0 0 1 0 0 0 0 0]\n",
            " [0 1 0 0 0 0 0 0]\n",
            " [1 0 0 0 0 0 0 0]]\n"
          ]
        }
      ],
      "source": [
        "I = np.array([0, 1, 2, 3, 15, 16, 32, 64, 128])\n",
        "B = ((I.reshape(-1,1) & (2**np.arange(8))) != 0).astype(int)\n",
        "print(B[:,::-1])\n",
        "I = np.array([0, 1, 2, 3, 15, 16, 32, 64, 128], dtype=np.uint8)\n",
        "print(np.unpackbits(I[:, np.newaxis], axis=1))"
      ]
    },
    {
      "cell_type": "markdown",
      "metadata": {
        "id": "vc6YFz9CPAq-"
      },
      "source": [
        "#### 96. Given a two dimensional array, how to extract unique rows? (★★★) \n",
        "(**hint**: np.ascontiguousarray)"
      ]
    },
    {
      "cell_type": "code",
      "execution_count": 44,
      "metadata": {
        "id": "S0iUBJiMPAq-",
        "outputId": "8e65d22e-3346-4b12-8e89-240f747414d5",
        "colab": {
          "base_uri": "https://localhost:8080/"
        }
      },
      "outputs": [
        {
          "output_type": "stream",
          "name": "stdout",
          "text": [
            "[[0 0 1]\n",
            " [0 1 0]\n",
            " [1 0 0]\n",
            " [1 0 1]\n",
            " [1 1 1]]\n",
            "[[0 0 1]\n",
            " [0 1 0]\n",
            " [1 0 0]\n",
            " [1 0 1]\n",
            " [1 1 1]]\n"
          ]
        }
      ],
      "source": [
        "Z = np.random.randint(0,2,(6,3))\n",
        "T = np.ascontiguousarray(Z).view(np.dtype((np.void, Z.dtype.itemsize * Z.shape[1])))\n",
        "_, idx = np.unique(T, return_index=True)\n",
        "uZ = Z[idx]\n",
        "print(uZ)\n",
        "uZ = np.unique(Z, axis=0)\n",
        "print(uZ)"
      ]
    },
    {
      "cell_type": "markdown",
      "metadata": {
        "id": "BSAsRudBPAq-"
      },
      "source": [
        "#### 97. Considering 2 vectors A & B, write the einsum equivalent of inner, outer, sum, and mul function (★★★) \n",
        "(**hint**: np.einsum)"
      ]
    },
    {
      "cell_type": "code",
      "execution_count": 45,
      "metadata": {
        "id": "H3HHX6gHPAq-",
        "outputId": "3a65f7ac-7ce6-4278-b6d4-f85bd97fcfde",
        "colab": {
          "base_uri": "https://localhost:8080/"
        }
      },
      "outputs": [
        {
          "output_type": "execute_result",
          "data": {
            "text/plain": [
              "array([[0.03503871, 0.06401026, 0.00502157, 0.02272975, 0.03137391,\n",
              "        0.06743835, 0.0719901 , 0.04263652, 0.06224412, 0.0487045 ],\n",
              "       [0.37507056, 0.68519545, 0.05375318, 0.24330976, 0.33584089,\n",
              "        0.72189134, 0.77061539, 0.45640107, 0.66628992, 0.52135557],\n",
              "       [0.39873284, 0.72842275, 0.05714433, 0.25865958, 0.35702827,\n",
              "        0.76743369, 0.81923163, 0.48519429, 0.70832452, 0.55424662],\n",
              "       [0.43612885, 0.79673944, 0.06250374, 0.28291852, 0.39051293,\n",
              "        0.83940911, 0.89606502, 0.53069928, 0.77475625, 0.60622783],\n",
              "       [0.05347327, 0.09768733, 0.00766351, 0.03468832, 0.04788035,\n",
              "        0.10291901, 0.10986553, 0.06506845, 0.094992  , 0.07432892],\n",
              "       [0.35348473, 0.64576151, 0.05065961, 0.22930695, 0.31651278,\n",
              "        0.6803455 , 0.72626542, 0.43013456, 0.62794402, 0.49135084],\n",
              "       [0.0082655 , 0.01509978, 0.00118457, 0.00536186, 0.00740099,\n",
              "        0.01590846, 0.0169822 , 0.0100578 , 0.01468316, 0.01148921],\n",
              "       [0.05145924, 0.09400801, 0.00737487, 0.03338181, 0.04607698,\n",
              "        0.09904265, 0.10572753, 0.06261769, 0.0914142 , 0.07152937],\n",
              "       [0.37350641, 0.682338  , 0.05352901, 0.2422951 , 0.33444034,\n",
              "        0.71888086, 0.76740172, 0.45449775, 0.66351131, 0.51918138],\n",
              "       [0.01827048, 0.03337732, 0.00261843, 0.01185213, 0.01635952,\n",
              "        0.03516486, 0.03753831, 0.02223226, 0.03245639, 0.02539633]])"
            ]
          },
          "metadata": {},
          "execution_count": 45
        }
      ],
      "source": [
        "A = np.random.uniform(0,1,10)\n",
        "B = np.random.uniform(0,1,10)\n",
        "\n",
        "np.einsum('i->', A)      \n",
        "np.einsum('i,i->i', A, B)\n",
        "np.einsum('i,i', A, B)    \n",
        "np.einsum('i,j->ij', A, B)"
      ]
    },
    {
      "cell_type": "markdown",
      "metadata": {
        "id": "_c6MVdTnPAq_"
      },
      "source": [
        "#### 98. Considering a path described by two vectors (X,Y), how to sample it using equidistant samples (★★★)? \n",
        "(**hint**: np.cumsum, np.interp)"
      ]
    },
    {
      "cell_type": "code",
      "execution_count": 47,
      "metadata": {
        "collapsed": true,
        "id": "-yGvHq_mPAq_"
      },
      "outputs": [],
      "source": [
        "phi = np.arange(0, 10*np.pi, 0.1)\n",
        "a = 1\n",
        "x = a*phi*np.cos(phi)\n",
        "y = a*phi*np.sin(phi)\n",
        "\n",
        "dr = (np.diff(x)**2 + np.diff(y)**2)**.5\n",
        "r = np.zeros_like(x)\n",
        "r[1:] = np.cumsum(dr)                \n",
        "r_int = np.linspace(0, r.max(), 200) \n",
        "x_int = np.interp(r_int, r, x)       \n",
        "y_int = np.interp(r_int, r, y)"
      ]
    },
    {
      "cell_type": "markdown",
      "metadata": {
        "id": "V39r2h_rPAq_"
      },
      "source": [
        "#### 99. Given an integer n and a 2D array X, select from X the rows which can be interpreted as draws from a multinomial distribution with n degrees, i.e., the rows which only contain integers and which sum to n. (★★★) \n",
        "(**hint**: np.logical\\_and.reduce, np.mod)"
      ]
    },
    {
      "cell_type": "code",
      "execution_count": 48,
      "metadata": {
        "id": "-XmuqGMkPAq_",
        "outputId": "e2db8c46-e0cb-45c6-ca8a-4dd629f211fc",
        "colab": {
          "base_uri": "https://localhost:8080/"
        }
      },
      "outputs": [
        {
          "output_type": "stream",
          "name": "stdout",
          "text": [
            "[[2. 0. 1. 1.]]\n"
          ]
        }
      ],
      "source": [
        "X = np.asarray([[1.0, 0.0, 3.0, 8.0],\n",
        "                [2.0, 0.0, 1.0, 1.0],\n",
        "                [1.5, 2.5, 1.0, 0.0]])\n",
        "n = 4\n",
        "M = np.logical_and.reduce(np.mod(X, 1) == 0, axis=-1)\n",
        "M &= (X.sum(axis=-1) == n)\n",
        "print(X[M])"
      ]
    },
    {
      "cell_type": "markdown",
      "metadata": {
        "id": "uDFa268-PAq_"
      },
      "source": [
        "#### 100. Compute bootstrapped 95% confidence intervals for the mean of a 1D array X (i.e., resample the elements of an array with replacement N times, compute the mean of each sample, and then compute percentiles over the means). (★★★) \n",
        "(**hint**: np.percentile)"
      ]
    },
    {
      "cell_type": "code",
      "execution_count": 49,
      "metadata": {
        "id": "79xI-AGXPAq_",
        "outputId": "1e53a505-9675-40f3-a63e-a427cbcdbaf9",
        "colab": {
          "base_uri": "https://localhost:8080/"
        }
      },
      "outputs": [
        {
          "output_type": "stream",
          "name": "stdout",
          "text": [
            "[-0.11441546  0.33108027]\n"
          ]
        }
      ],
      "source": [
        "X = np.random.randn(100) # random 1D array\n",
        "N = 1000 # number of bootstrap samples\n",
        "idx = np.random.randint(0, X.size, (N, X.size))\n",
        "means = X[idx].mean(axis=1)\n",
        "confint = np.percentile(means, [2.5, 97.5])\n",
        "print(confint)"
      ]
    },
    {
      "cell_type": "code",
      "source": [],
      "metadata": {
        "id": "bQEfcfNtlX-c"
      },
      "execution_count": null,
      "outputs": []
    }
  ],
  "metadata": {
    "kernelspec": {
      "display_name": "Python 3",
      "language": "python",
      "name": "python3"
    },
    "language_info": {
      "codemirror_mode": {
        "name": "ipython",
        "version": 3
      },
      "file_extension": ".py",
      "mimetype": "text/x-python",
      "name": "python",
      "nbconvert_exporter": "python",
      "pygments_lexer": "ipython3",
      "version": "3.8.3"
    },
    "colab": {
      "provenance": [],
      "include_colab_link": true
    }
  },
  "nbformat": 4,
  "nbformat_minor": 0
}